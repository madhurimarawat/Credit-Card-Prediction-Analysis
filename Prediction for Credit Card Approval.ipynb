{
 "cells": [
  {
   "cell_type": "markdown",
   "id": "7fdd6509",
   "metadata": {},
   "source": [
    "##  Prediction for Credit Card Approval "
   ]
  },
  {
   "cell_type": "markdown",
   "id": "2807b94a",
   "metadata": {},
   "source": [
    "### Importing Required Libraries"
   ]
  },
  {
   "cell_type": "code",
   "execution_count": 173,
   "id": "bf50945f",
   "metadata": {},
   "outputs": [],
   "source": [
    "import pandas as pd\n",
    "import numpy as np\n",
    "import matplotlib.pyplot as plt\n",
    "import seaborn as sns"
   ]
  },
  {
   "cell_type": "markdown",
   "id": "dc5164e8",
   "metadata": {},
   "source": [
    "### Reading Data"
   ]
  },
  {
   "cell_type": "code",
   "execution_count": 174,
   "id": "3219bc47",
   "metadata": {},
   "outputs": [
    {
     "name": "stdout",
     "output_type": "stream",
     "text": [
      "Training Data is:\n",
      "\n",
      "            ID Gender Has a car Has a property  Children count    Income  \\\n",
      "0      5037048      M         Y              Y               0  135000.0   \n",
      "1      5044630      F         Y              N               1  135000.0   \n",
      "2      5079079      F         N              Y               2  180000.0   \n",
      "3      5112872      F         Y              Y               0  360000.0   \n",
      "4      5105858      F         N              N               0  270000.0   \n",
      "...        ...    ...       ...            ...             ...       ...   \n",
      "29160  5067139      F         N              Y               0  112500.0   \n",
      "29161  5029193      F         N              Y               1  135000.0   \n",
      "29162  5047710      F         N              Y               0   76500.0   \n",
      "29163  5009886      F         N              Y               0  157500.0   \n",
      "29164  5062632      F         N              Y               0  585000.0   \n",
      "\n",
      "          Employment status                Education level  \\\n",
      "0                   Working  Secondary / secondary special   \n",
      "1      Commercial associate               Higher education   \n",
      "2      Commercial associate  Secondary / secondary special   \n",
      "3      Commercial associate               Higher education   \n",
      "4                   Working  Secondary / secondary special   \n",
      "...                     ...                            ...   \n",
      "29160             Pensioner  Secondary / secondary special   \n",
      "29161  Commercial associate  Secondary / secondary special   \n",
      "29162               Working  Secondary / secondary special   \n",
      "29163             Pensioner  Secondary / secondary special   \n",
      "29164  Commercial associate  Secondary / secondary special   \n",
      "\n",
      "             Marital status           Dwelling    Age  Employment length  \\\n",
      "0                   Married       With parents -16271              -3111   \n",
      "1      Single / not married  House / apartment -10130              -1651   \n",
      "2                   Married  House / apartment -12821              -5657   \n",
      "3      Single / not married  House / apartment -20929              -2046   \n",
      "4                 Separated  House / apartment -16207               -515   \n",
      "...                     ...                ...    ...                ...   \n",
      "29160  Single / not married  House / apartment -23400             365243   \n",
      "29161               Married  House / apartment -15532              -8256   \n",
      "29162               Married  House / apartment -17782              -3291   \n",
      "29163        Civil marriage  House / apartment -21635             365243   \n",
      "29164               Married  House / apartment -18858              -2010   \n",
      "\n",
      "       Has a mobile phone  Has a work phone  Has a phone  Has an email  \\\n",
      "0                       1                 0            0             0   \n",
      "1                       1                 0            0             0   \n",
      "2                       1                 0            0             0   \n",
      "3                       1                 0            0             1   \n",
      "4                       1                 0            1             0   \n",
      "...                   ...               ...          ...           ...   \n",
      "29160                   1                 0            1             1   \n",
      "29161                   1                 0            0             0   \n",
      "29162                   1                 1            1             0   \n",
      "29163                   1                 0            1             0   \n",
      "29164                   1                 0            1             0   \n",
      "\n",
      "         Job title  Family member count  Account age  Is high risk  \n",
      "0       Core staff                  2.0        -17.0             0  \n",
      "1      Accountants                  2.0         -1.0             0  \n",
      "2         Laborers                  4.0        -38.0             0  \n",
      "3         Managers                  1.0        -11.0             0  \n",
      "4              NaN                  1.0        -41.0             0  \n",
      "...            ...                  ...          ...           ...  \n",
      "29160          NaN                  1.0         -5.0             0  \n",
      "29161   Core staff                  3.0        -24.0             0  \n",
      "29162     Managers                  2.0        -29.0             0  \n",
      "29163          NaN                  2.0        -37.0             0  \n",
      "29164          NaN                  2.0        -43.0             0  \n",
      "\n",
      "[29165 rows x 20 columns]\n",
      "\n",
      "Testing Data is:\n",
      "\n",
      "           ID Gender Has a car Has a property  Children count    Income  \\\n",
      "0     5091261      F         N              Y               0  202500.0   \n",
      "1     5096963      M         Y              N               0  675000.0   \n",
      "2     5087880      F         N              N               0  234000.0   \n",
      "3     5021949      F         Y              Y               0  445500.0   \n",
      "4     5105705      F         Y              N               0  225000.0   \n",
      "...       ...    ...       ...            ...             ...       ...   \n",
      "7287  5115415      F         Y              Y               0  135000.0   \n",
      "7288  5068826      F         Y              Y               0  157500.0   \n",
      "7289  5026088      F         N              Y               0   67500.0   \n",
      "7290  5142701      F         Y              N               0   95850.0   \n",
      "7291  5022903      F         N              Y               1  135000.0   \n",
      "\n",
      "         Employment status                Education level  Marital status  \\\n",
      "0            State servant  Secondary / secondary special       Separated   \n",
      "1     Commercial associate               Higher education         Married   \n",
      "2            State servant               Higher education  Civil marriage   \n",
      "3     Commercial associate               Higher education         Married   \n",
      "4                  Working  Secondary / secondary special         Married   \n",
      "...                    ...                            ...             ...   \n",
      "7287               Working  Secondary / secondary special         Married   \n",
      "7288               Working               Higher education         Married   \n",
      "7289               Working  Secondary / secondary special           Widow   \n",
      "7290  Commercial associate  Secondary / secondary special         Married   \n",
      "7291  Commercial associate  Secondary / secondary special  Civil marriage   \n",
      "\n",
      "                 Dwelling    Age  Employment length  Has a mobile phone  \\\n",
      "0       House / apartment -16834              -1692                   1   \n",
      "1       House / apartment -18126               -948                   1   \n",
      "2       House / apartment -21967              -5215                   1   \n",
      "3       House / apartment -12477               -456                   1   \n",
      "4     Municipal apartment -12155               -667                   1   \n",
      "...                   ...    ...                ...                 ...   \n",
      "7287    House / apartment -21724              -1351                   1   \n",
      "7288    House / apartment -14976              -3550                   1   \n",
      "7289    House / apartment -20482              -5030                   1   \n",
      "7290    House / apartment -18931              -6678                   1   \n",
      "7291    House / apartment -10765              -2196                   1   \n",
      "\n",
      "      Has a work phone  Has a phone  Has an email       Job title  \\\n",
      "0                    0            0             0  Medicine staff   \n",
      "1                    0            1             0        Managers   \n",
      "2                    0            0             1      Core staff   \n",
      "3                    0            0             0        Managers   \n",
      "4                    0            0             0        Laborers   \n",
      "...                ...          ...           ...             ...   \n",
      "7287                 0            0             0             NaN   \n",
      "7288                 0            0             1         Drivers   \n",
      "7289                 1            1             0             NaN   \n",
      "7290                 1            0             0        Laborers   \n",
      "7291                 0            0             1             NaN   \n",
      "\n",
      "      Family member count  Account age  Is high risk  \n",
      "0                     1.0         -6.0             0  \n",
      "1                     2.0        -16.0             0  \n",
      "2                     2.0        -52.0             0  \n",
      "3                     2.0        -54.0             0  \n",
      "4                     2.0        -48.0             0  \n",
      "...                   ...          ...           ...  \n",
      "7287                  2.0        -22.0             0  \n",
      "7288                  2.0        -42.0             0  \n",
      "7289                  1.0        -25.0             0  \n",
      "7290                  2.0        -49.0             0  \n",
      "7291                  3.0        -36.0             0  \n",
      "\n",
      "[7292 rows x 20 columns]\n"
     ]
    }
   ],
   "source": [
    "# Reading data\n",
    "# The encoding is latin1 and we need to specify it\n",
    "train_data = pd.read_csv(\"train_data.csv\", encoding='latin1')\n",
    "\n",
    "test_data = pd.read_csv(\"test_data.csv\", encoding='latin1')\n",
    "\n",
    "print(\"Training Data is:\\n\")\n",
    "\n",
    "print(train_data)\n",
    "\n",
    "print(\"\\nTesting Data is:\\n\")\n",
    "\n",
    "print(test_data)"
   ]
  },
  {
   "cell_type": "markdown",
   "id": "09b049d7",
   "metadata": {},
   "source": [
    "## 1. Exploratory Data Analysis (EDA)"
   ]
  },
  {
   "cell_type": "markdown",
   "id": "f35d7ccf",
   "metadata": {},
   "source": [
    "### Seeing Columns of the Dataset"
   ]
  },
  {
   "cell_type": "code",
   "execution_count": 175,
   "id": "b0a1de16",
   "metadata": {},
   "outputs": [
    {
     "name": "stdout",
     "output_type": "stream",
     "text": [
      "Columns of Dataset are:\n",
      "\n"
     ]
    },
    {
     "data": {
      "text/plain": [
       "Index(['ID', 'Gender', 'Has a car', 'Has a property', 'Children count',\n",
       "       'Income', 'Employment status', 'Education level', 'Marital status',\n",
       "       'Dwelling', 'Age', 'Employment length', 'Has a mobile phone',\n",
       "       'Has a work phone', 'Has a phone', 'Has an email', 'Job title',\n",
       "       'Family member count', 'Account age', 'Is high risk'],\n",
       "      dtype='object')"
      ]
     },
     "execution_count": 175,
     "metadata": {},
     "output_type": "execute_result"
    }
   ],
   "source": [
    "print(\"Columns of Dataset are:\\n\")\n",
    "\n",
    "train_data.columns"
   ]
  },
  {
   "cell_type": "markdown",
   "id": "a1ea24c0",
   "metadata": {},
   "source": [
    "### Data Preprocessing"
   ]
  },
  {
   "cell_type": "markdown",
   "id": "4294f799",
   "metadata": {},
   "source": [
    "### Seeing Null values in the dataset"
   ]
  },
  {
   "cell_type": "markdown",
   "id": "1f61a021",
   "metadata": {},
   "source": [
    "## Only 1 column has null value we need to address this"
   ]
  },
  {
   "cell_type": "code",
   "execution_count": 176,
   "id": "b22384c4",
   "metadata": {},
   "outputs": [
    {
     "name": "stdout",
     "output_type": "stream",
     "text": [
      "Unique Categories in dataset are:\n",
      "\n",
      "Laborers                 5004\n",
      "Core staff               2866\n",
      "Sales staff              2773\n",
      "Managers                 2422\n",
      "Drivers                  1722\n",
      "High skill tech staff    1133\n",
      "Accountants               998\n",
      "Medicine staff            956\n",
      "Cooking staff             521\n",
      "Security staff            464\n",
      "Cleaning staff            425\n",
      "Private service staff     287\n",
      "Low-skill Laborers        138\n",
      "Waiters/barmen staff      127\n",
      "Secretaries               122\n",
      "HR staff                   72\n",
      "Realty agents              60\n",
      "IT staff                   48\n",
      "Name: Job title, dtype: int64\n",
      "\n",
      "Shape of Training Dataset is: (29165, 20)\n",
      "\n",
      "Training Data Null value Count:\n",
      "\n",
      "ID                        0\n",
      "Gender                    0\n",
      "Has a car                 0\n",
      "Has a property            0\n",
      "Children count            0\n",
      "Income                    0\n",
      "Employment status         0\n",
      "Education level           0\n",
      "Marital status            0\n",
      "Dwelling                  0\n",
      "Age                       0\n",
      "Employment length         0\n",
      "Has a mobile phone        0\n",
      "Has a work phone          0\n",
      "Has a phone               0\n",
      "Has an email              0\n",
      "Job title              9027\n",
      "Family member count       0\n",
      "Account age               0\n",
      "Is high risk              0\n",
      "dtype: int64\n",
      "\n",
      "Shape of Testing Dataset is: (7292, 20)\n",
      "\n",
      "Testing Data Null value Count:\n",
      "\n",
      "ID                        0\n",
      "Gender                    0\n",
      "Has a car                 0\n",
      "Has a property            0\n",
      "Children count            0\n",
      "Income                    0\n",
      "Employment status         0\n",
      "Education level           0\n",
      "Marital status            0\n",
      "Dwelling                  0\n",
      "Age                       0\n",
      "Employment length         0\n",
      "Has a mobile phone        0\n",
      "Has a work phone          0\n",
      "Has a phone               0\n",
      "Has an email              0\n",
      "Job title              2296\n",
      "Family member count       0\n",
      "Account age               0\n",
      "Is high risk              0\n",
      "dtype: int64\n"
     ]
    }
   ],
   "source": [
    "# Seeing Unique Categories in dataset\n",
    "print(\"Unique Categories in dataset are:\\n\")\n",
    "print(train_data['Job title'].value_counts())\n",
    "\n",
    "# First we need to find if this is present in both training and testing data or only in testing data\n",
    "\n",
    "print(\"\\nShape of Training Dataset is:\", train_data.shape)\n",
    "print(\"\\nTraining Data Null value Count:\\n\")\n",
    "print(train_data.isna().sum())\n",
    "\n",
    "print(\"\\nShape of Testing Dataset is:\", test_data.shape)\n",
    "print(\"\\nTesting Data Null value Count:\\n\")\n",
    "print(test_data.isna().sum())"
   ]
  },
  {
   "cell_type": "markdown",
   "id": "3dcd7394",
   "metadata": {},
   "source": [
    "### Since the missing values are less in comparison to actual shape of dataset we will drop them"
   ]
  },
  {
   "cell_type": "code",
   "execution_count": 177,
   "id": "49b04a91",
   "metadata": {},
   "outputs": [],
   "source": [
    "train_data.dropna(inplace = True)\n",
    "\n",
    "test_data.dropna(inplace = True)"
   ]
  },
  {
   "cell_type": "markdown",
   "id": "b387e603",
   "metadata": {},
   "source": [
    "### Seeing the description of output class"
   ]
  },
  {
   "cell_type": "markdown",
   "id": "17dac6c3",
   "metadata": {},
   "source": [
    "### Training Dataset"
   ]
  },
  {
   "cell_type": "code",
   "execution_count": 178,
   "id": "3a920e23",
   "metadata": {},
   "outputs": [
    {
     "name": "stdout",
     "output_type": "stream",
     "text": [
      "Shape of Training Dataset is: (20138, 20)\n",
      "\n",
      "Output Class Value Count in training dataset is:\n",
      "\n",
      "0    19794\n",
      "1      344\n",
      "Name: Is high risk, dtype: int64\n"
     ]
    }
   ],
   "source": [
    "print(\"Shape of Training Dataset is:\", train_data.shape)\n",
    "\n",
    "print(\"\\nOutput Class Value Count in training dataset is:\\n\")\n",
    "print(train_data['Is high risk'].value_counts())"
   ]
  },
  {
   "cell_type": "code",
   "execution_count": 179,
   "id": "74d1b9f9",
   "metadata": {},
   "outputs": [
    {
     "name": "stdout",
     "output_type": "stream",
     "text": [
      "Shape of Not Fraud data after separating is:  (19794, 20)\n",
      "\n",
      "Shape of Fraud data after separating is:  (344, 20)\n"
     ]
    }
   ],
   "source": [
    "# Balancing the dataset\n",
    "# First we will extract the risk and Not risk Data\n",
    "Not_risk_data = train_data[train_data['Is high risk'] == 0]\n",
    "risk_data = train_data[train_data['Is high risk'] == 1]\n",
    "\n",
    "# Checking the Shape of this Separated Data\n",
    "print(\"Shape of Not Fraud data after separating is: \",Not_risk_data.shape)\n",
    "print(\"\\nShape of Fraud data after separating is: \",risk_data.shape)"
   ]
  },
  {
   "cell_type": "code",
   "execution_count": 180,
   "id": "12d92a56",
   "metadata": {},
   "outputs": [
    {
     "name": "stdout",
     "output_type": "stream",
     "text": [
      "Number/Count of risk and Not risk Data values in Updated Dataframe is:\n"
     ]
    },
    {
     "data": {
      "text/plain": [
       "0    344\n",
       "1    344\n",
       "Name: Is high risk, dtype: int64"
      ]
     },
     "execution_count": 180,
     "metadata": {},
     "output_type": "execute_result"
    }
   ],
   "source": [
    "# We are using the sample function for extracting data\n",
    "# 344 rows are selected because the number of risk data is 492\n",
    "# To ensure correct fitting of model we will take the same number of rows for both risk and Not risk Data\n",
    "Not_risk_Sample = Not_risk_data.sample(n=344)\n",
    "\n",
    "# Now finally we will concatenate both the samples for Fraud and Not Fraud data\n",
    "Updated_train_data = pd.concat([Not_risk_Sample, risk_data], axis=0)\n",
    "\n",
    "# Now seeing the counts in the new dataframe\n",
    "print(\"Number/Count of risk and Not risk Data values in Updated Dataframe is:\")\n",
    "Updated_train_data['Is high risk'].value_counts()"
   ]
  },
  {
   "cell_type": "markdown",
   "id": "f0e124d0",
   "metadata": {},
   "source": [
    "### For Testing Set"
   ]
  },
  {
   "cell_type": "code",
   "execution_count": 181,
   "id": "f5202def",
   "metadata": {},
   "outputs": [
    {
     "name": "stdout",
     "output_type": "stream",
     "text": [
      "Shape of Testing Dataset is: (4996, 20)\n",
      "\n",
      "Output Class Value Count in testing dataset is:\n",
      "\n",
      "0    4918\n",
      "1      78\n",
      "Name: Is high risk, dtype: int64\n"
     ]
    }
   ],
   "source": [
    "print(\"Shape of Testing Dataset is:\", test_data.shape)\n",
    "\n",
    "print(\"\\nOutput Class Value Count in testing dataset is:\\n\")\n",
    "print(test_data['Is high risk'].value_counts())"
   ]
  },
  {
   "cell_type": "code",
   "execution_count": 182,
   "id": "20ba010d",
   "metadata": {},
   "outputs": [
    {
     "name": "stdout",
     "output_type": "stream",
     "text": [
      "Shape of Not Fraud data after separating is:  (4918, 20)\n",
      "\n",
      "Shape of Fraud data after separating is:  (78, 20)\n"
     ]
    }
   ],
   "source": [
    "# Balancing the dataset\n",
    "# First we will extract the risk and Not risk Data\n",
    "Not_risk_data = test_data[test_data['Is high risk'] == 0]\n",
    "risk_data = test_data[test_data['Is high risk'] == 1]\n",
    "\n",
    "# Checking the Shape of this Separated Data\n",
    "print(\"Shape of Not Fraud data after separating is: \",Not_risk_data.shape)\n",
    "print(\"\\nShape of Fraud data after separating is: \",risk_data.shape)"
   ]
  },
  {
   "cell_type": "code",
   "execution_count": 183,
   "id": "a319b74f",
   "metadata": {},
   "outputs": [
    {
     "name": "stdout",
     "output_type": "stream",
     "text": [
      "Number/Count of risk and Not risk Data values in Updated Dataframe is:\n"
     ]
    },
    {
     "data": {
      "text/plain": [
       "0    78\n",
       "1    78\n",
       "Name: Is high risk, dtype: int64"
      ]
     },
     "execution_count": 183,
     "metadata": {},
     "output_type": "execute_result"
    }
   ],
   "source": [
    "# We are using the sample function for extracting data\n",
    "# 78 rows are selected because the number of risk data is 78\n",
    "# To ensure correct fitting of model we will take the same number of rows for both risk and Not risk Data\n",
    "Not_risk_Sample = Not_risk_data.sample(n=78)\n",
    "\n",
    "# Now finally we will concatenate both the samples for Risk and Not Risk data\n",
    "Updated_test_data = pd.concat([Not_risk_Sample, risk_data], axis=0)\n",
    "\n",
    "# Now seeing the counts in the new dataframe\n",
    "print(\"Number/Count of risk and Not risk Data values in Updated Dataframe is:\")\n",
    "Updated_test_data['Is high risk'].value_counts()"
   ]
  },
  {
   "cell_type": "markdown",
   "id": "e669aa72",
   "metadata": {},
   "source": [
    "### Seeing Descriptive Statistics of Dataset"
   ]
  },
  {
   "cell_type": "code",
   "execution_count": 184,
   "id": "7c801fe1",
   "metadata": {},
   "outputs": [
    {
     "name": "stdout",
     "output_type": "stream",
     "text": [
      "Descriptive Statistics of Training Dataset are:\n",
      "\n"
     ]
    },
    {
     "data": {
      "text/html": [
       "<div>\n",
       "<style scoped>\n",
       "    .dataframe tbody tr th:only-of-type {\n",
       "        vertical-align: middle;\n",
       "    }\n",
       "\n",
       "    .dataframe tbody tr th {\n",
       "        vertical-align: top;\n",
       "    }\n",
       "\n",
       "    .dataframe thead th {\n",
       "        text-align: right;\n",
       "    }\n",
       "</style>\n",
       "<table border=\"1\" class=\"dataframe\">\n",
       "  <thead>\n",
       "    <tr style=\"text-align: right;\">\n",
       "      <th></th>\n",
       "      <th>ID</th>\n",
       "      <th>Children count</th>\n",
       "      <th>Income</th>\n",
       "      <th>Age</th>\n",
       "      <th>Employment length</th>\n",
       "      <th>Has a mobile phone</th>\n",
       "      <th>Has a work phone</th>\n",
       "      <th>Has a phone</th>\n",
       "      <th>Has an email</th>\n",
       "      <th>Family member count</th>\n",
       "      <th>Account age</th>\n",
       "      <th>Is high risk</th>\n",
       "    </tr>\n",
       "  </thead>\n",
       "  <tbody>\n",
       "    <tr>\n",
       "      <th>count</th>\n",
       "      <td>6.880000e+02</td>\n",
       "      <td>688.000000</td>\n",
       "      <td>6.880000e+02</td>\n",
       "      <td>688.000000</td>\n",
       "      <td>688.000000</td>\n",
       "      <td>688.0</td>\n",
       "      <td>688.000000</td>\n",
       "      <td>688.000000</td>\n",
       "      <td>688.000000</td>\n",
       "      <td>688.000000</td>\n",
       "      <td>688.000000</td>\n",
       "      <td>688.000000</td>\n",
       "    </tr>\n",
       "    <tr>\n",
       "      <th>mean</th>\n",
       "      <td>5.078940e+06</td>\n",
       "      <td>0.495640</td>\n",
       "      <td>1.968117e+05</td>\n",
       "      <td>-14685.588663</td>\n",
       "      <td>-2248.677326</td>\n",
       "      <td>1.0</td>\n",
       "      <td>0.280523</td>\n",
       "      <td>0.306686</td>\n",
       "      <td>0.101744</td>\n",
       "      <td>2.264535</td>\n",
       "      <td>-30.792151</td>\n",
       "      <td>0.500000</td>\n",
       "    </tr>\n",
       "    <tr>\n",
       "      <th>std</th>\n",
       "      <td>4.261725e+04</td>\n",
       "      <td>0.766841</td>\n",
       "      <td>1.101462e+05</td>\n",
       "      <td>3451.669405</td>\n",
       "      <td>1995.826957</td>\n",
       "      <td>0.0</td>\n",
       "      <td>0.449582</td>\n",
       "      <td>0.461453</td>\n",
       "      <td>0.302532</td>\n",
       "      <td>0.931305</td>\n",
       "      <td>15.941545</td>\n",
       "      <td>0.500364</td>\n",
       "    </tr>\n",
       "    <tr>\n",
       "      <th>min</th>\n",
       "      <td>5.008839e+06</td>\n",
       "      <td>0.000000</td>\n",
       "      <td>4.500000e+04</td>\n",
       "      <td>-23510.000000</td>\n",
       "      <td>-12278.000000</td>\n",
       "      <td>1.0</td>\n",
       "      <td>0.000000</td>\n",
       "      <td>0.000000</td>\n",
       "      <td>0.000000</td>\n",
       "      <td>1.000000</td>\n",
       "      <td>-60.000000</td>\n",
       "      <td>0.000000</td>\n",
       "    </tr>\n",
       "    <tr>\n",
       "      <th>25%</th>\n",
       "      <td>5.045272e+06</td>\n",
       "      <td>0.000000</td>\n",
       "      <td>1.350000e+05</td>\n",
       "      <td>-17557.250000</td>\n",
       "      <td>-3026.750000</td>\n",
       "      <td>1.0</td>\n",
       "      <td>0.000000</td>\n",
       "      <td>0.000000</td>\n",
       "      <td>0.000000</td>\n",
       "      <td>2.000000</td>\n",
       "      <td>-44.000000</td>\n",
       "      <td>0.000000</td>\n",
       "    </tr>\n",
       "    <tr>\n",
       "      <th>50%</th>\n",
       "      <td>5.078804e+06</td>\n",
       "      <td>0.000000</td>\n",
       "      <td>1.800000e+05</td>\n",
       "      <td>-14301.000000</td>\n",
       "      <td>-1697.000000</td>\n",
       "      <td>1.0</td>\n",
       "      <td>0.000000</td>\n",
       "      <td>0.000000</td>\n",
       "      <td>0.000000</td>\n",
       "      <td>2.000000</td>\n",
       "      <td>-31.500000</td>\n",
       "      <td>0.500000</td>\n",
       "    </tr>\n",
       "    <tr>\n",
       "      <th>75%</th>\n",
       "      <td>5.115900e+06</td>\n",
       "      <td>1.000000</td>\n",
       "      <td>2.250000e+05</td>\n",
       "      <td>-11830.500000</td>\n",
       "      <td>-859.250000</td>\n",
       "      <td>1.0</td>\n",
       "      <td>1.000000</td>\n",
       "      <td>1.000000</td>\n",
       "      <td>0.000000</td>\n",
       "      <td>3.000000</td>\n",
       "      <td>-17.000000</td>\n",
       "      <td>1.000000</td>\n",
       "    </tr>\n",
       "    <tr>\n",
       "      <th>max</th>\n",
       "      <td>5.150337e+06</td>\n",
       "      <td>4.000000</td>\n",
       "      <td>1.125000e+06</td>\n",
       "      <td>-8168.000000</td>\n",
       "      <td>-73.000000</td>\n",
       "      <td>1.0</td>\n",
       "      <td>1.000000</td>\n",
       "      <td>1.000000</td>\n",
       "      <td>1.000000</td>\n",
       "      <td>6.000000</td>\n",
       "      <td>0.000000</td>\n",
       "      <td>1.000000</td>\n",
       "    </tr>\n",
       "  </tbody>\n",
       "</table>\n",
       "</div>"
      ],
      "text/plain": [
       "                 ID  Children count        Income           Age  \\\n",
       "count  6.880000e+02      688.000000  6.880000e+02    688.000000   \n",
       "mean   5.078940e+06        0.495640  1.968117e+05 -14685.588663   \n",
       "std    4.261725e+04        0.766841  1.101462e+05   3451.669405   \n",
       "min    5.008839e+06        0.000000  4.500000e+04 -23510.000000   \n",
       "25%    5.045272e+06        0.000000  1.350000e+05 -17557.250000   \n",
       "50%    5.078804e+06        0.000000  1.800000e+05 -14301.000000   \n",
       "75%    5.115900e+06        1.000000  2.250000e+05 -11830.500000   \n",
       "max    5.150337e+06        4.000000  1.125000e+06  -8168.000000   \n",
       "\n",
       "       Employment length  Has a mobile phone  Has a work phone  Has a phone  \\\n",
       "count         688.000000               688.0        688.000000   688.000000   \n",
       "mean        -2248.677326                 1.0          0.280523     0.306686   \n",
       "std          1995.826957                 0.0          0.449582     0.461453   \n",
       "min        -12278.000000                 1.0          0.000000     0.000000   \n",
       "25%         -3026.750000                 1.0          0.000000     0.000000   \n",
       "50%         -1697.000000                 1.0          0.000000     0.000000   \n",
       "75%          -859.250000                 1.0          1.000000     1.000000   \n",
       "max           -73.000000                 1.0          1.000000     1.000000   \n",
       "\n",
       "       Has an email  Family member count  Account age  Is high risk  \n",
       "count    688.000000           688.000000   688.000000    688.000000  \n",
       "mean       0.101744             2.264535   -30.792151      0.500000  \n",
       "std        0.302532             0.931305    15.941545      0.500364  \n",
       "min        0.000000             1.000000   -60.000000      0.000000  \n",
       "25%        0.000000             2.000000   -44.000000      0.000000  \n",
       "50%        0.000000             2.000000   -31.500000      0.500000  \n",
       "75%        0.000000             3.000000   -17.000000      1.000000  \n",
       "max        1.000000             6.000000     0.000000      1.000000  "
      ]
     },
     "execution_count": 184,
     "metadata": {},
     "output_type": "execute_result"
    }
   ],
   "source": [
    "print(\"Descriptive Statistics of Training Dataset are:\\n\")\n",
    "\n",
    "Updated_train_data.describe()"
   ]
  },
  {
   "cell_type": "code",
   "execution_count": 185,
   "id": "a9d0abe7",
   "metadata": {},
   "outputs": [
    {
     "name": "stdout",
     "output_type": "stream",
     "text": [
      "\n",
      "Descriptive Statistics of Testing Dataset are:\n",
      "\n"
     ]
    },
    {
     "data": {
      "text/html": [
       "<div>\n",
       "<style scoped>\n",
       "    .dataframe tbody tr th:only-of-type {\n",
       "        vertical-align: middle;\n",
       "    }\n",
       "\n",
       "    .dataframe tbody tr th {\n",
       "        vertical-align: top;\n",
       "    }\n",
       "\n",
       "    .dataframe thead th {\n",
       "        text-align: right;\n",
       "    }\n",
       "</style>\n",
       "<table border=\"1\" class=\"dataframe\">\n",
       "  <thead>\n",
       "    <tr style=\"text-align: right;\">\n",
       "      <th></th>\n",
       "      <th>ID</th>\n",
       "      <th>Children count</th>\n",
       "      <th>Income</th>\n",
       "      <th>Age</th>\n",
       "      <th>Employment length</th>\n",
       "      <th>Has a mobile phone</th>\n",
       "      <th>Has a work phone</th>\n",
       "      <th>Has a phone</th>\n",
       "      <th>Has an email</th>\n",
       "      <th>Family member count</th>\n",
       "      <th>Account age</th>\n",
       "      <th>Is high risk</th>\n",
       "    </tr>\n",
       "  </thead>\n",
       "  <tbody>\n",
       "    <tr>\n",
       "      <th>count</th>\n",
       "      <td>1.560000e+02</td>\n",
       "      <td>156.000000</td>\n",
       "      <td>156.000000</td>\n",
       "      <td>156.000000</td>\n",
       "      <td>156.000000</td>\n",
       "      <td>156.0</td>\n",
       "      <td>156.000000</td>\n",
       "      <td>156.000000</td>\n",
       "      <td>156.000000</td>\n",
       "      <td>156.000000</td>\n",
       "      <td>156.000000</td>\n",
       "      <td>156.00000</td>\n",
       "    </tr>\n",
       "    <tr>\n",
       "      <th>mean</th>\n",
       "      <td>5.087002e+06</td>\n",
       "      <td>0.506410</td>\n",
       "      <td>198920.192308</td>\n",
       "      <td>-14854.730769</td>\n",
       "      <td>-2550.948718</td>\n",
       "      <td>1.0</td>\n",
       "      <td>0.294872</td>\n",
       "      <td>0.262821</td>\n",
       "      <td>0.102564</td>\n",
       "      <td>2.326923</td>\n",
       "      <td>-29.525641</td>\n",
       "      <td>0.50000</td>\n",
       "    </tr>\n",
       "    <tr>\n",
       "      <th>std</th>\n",
       "      <td>4.033605e+04</td>\n",
       "      <td>0.766195</td>\n",
       "      <td>114381.128290</td>\n",
       "      <td>3500.006908</td>\n",
       "      <td>2535.857149</td>\n",
       "      <td>0.0</td>\n",
       "      <td>0.457454</td>\n",
       "      <td>0.441583</td>\n",
       "      <td>0.304366</td>\n",
       "      <td>0.923971</td>\n",
       "      <td>18.176003</td>\n",
       "      <td>0.50161</td>\n",
       "    </tr>\n",
       "    <tr>\n",
       "      <th>min</th>\n",
       "      <td>5.008945e+06</td>\n",
       "      <td>0.000000</td>\n",
       "      <td>36000.000000</td>\n",
       "      <td>-22800.000000</td>\n",
       "      <td>-14810.000000</td>\n",
       "      <td>1.0</td>\n",
       "      <td>0.000000</td>\n",
       "      <td>0.000000</td>\n",
       "      <td>0.000000</td>\n",
       "      <td>1.000000</td>\n",
       "      <td>-60.000000</td>\n",
       "      <td>0.00000</td>\n",
       "    </tr>\n",
       "    <tr>\n",
       "      <th>25%</th>\n",
       "      <td>5.053203e+06</td>\n",
       "      <td>0.000000</td>\n",
       "      <td>130500.000000</td>\n",
       "      <td>-17312.000000</td>\n",
       "      <td>-3402.000000</td>\n",
       "      <td>1.0</td>\n",
       "      <td>0.000000</td>\n",
       "      <td>0.000000</td>\n",
       "      <td>0.000000</td>\n",
       "      <td>2.000000</td>\n",
       "      <td>-46.250000</td>\n",
       "      <td>0.00000</td>\n",
       "    </tr>\n",
       "    <tr>\n",
       "      <th>50%</th>\n",
       "      <td>5.091524e+06</td>\n",
       "      <td>0.000000</td>\n",
       "      <td>180000.000000</td>\n",
       "      <td>-14803.000000</td>\n",
       "      <td>-1723.000000</td>\n",
       "      <td>1.0</td>\n",
       "      <td>0.000000</td>\n",
       "      <td>0.000000</td>\n",
       "      <td>0.000000</td>\n",
       "      <td>2.000000</td>\n",
       "      <td>-29.000000</td>\n",
       "      <td>0.50000</td>\n",
       "    </tr>\n",
       "    <tr>\n",
       "      <th>75%</th>\n",
       "      <td>5.117792e+06</td>\n",
       "      <td>1.000000</td>\n",
       "      <td>225000.000000</td>\n",
       "      <td>-12225.500000</td>\n",
       "      <td>-692.000000</td>\n",
       "      <td>1.0</td>\n",
       "      <td>1.000000</td>\n",
       "      <td>1.000000</td>\n",
       "      <td>0.000000</td>\n",
       "      <td>3.000000</td>\n",
       "      <td>-12.000000</td>\n",
       "      <td>1.00000</td>\n",
       "    </tr>\n",
       "    <tr>\n",
       "      <th>max</th>\n",
       "      <td>5.150353e+06</td>\n",
       "      <td>5.000000</td>\n",
       "      <td>900000.000000</td>\n",
       "      <td>-7489.000000</td>\n",
       "      <td>-65.000000</td>\n",
       "      <td>1.0</td>\n",
       "      <td>1.000000</td>\n",
       "      <td>1.000000</td>\n",
       "      <td>1.000000</td>\n",
       "      <td>7.000000</td>\n",
       "      <td>0.000000</td>\n",
       "      <td>1.00000</td>\n",
       "    </tr>\n",
       "  </tbody>\n",
       "</table>\n",
       "</div>"
      ],
      "text/plain": [
       "                 ID  Children count         Income           Age  \\\n",
       "count  1.560000e+02      156.000000     156.000000    156.000000   \n",
       "mean   5.087002e+06        0.506410  198920.192308 -14854.730769   \n",
       "std    4.033605e+04        0.766195  114381.128290   3500.006908   \n",
       "min    5.008945e+06        0.000000   36000.000000 -22800.000000   \n",
       "25%    5.053203e+06        0.000000  130500.000000 -17312.000000   \n",
       "50%    5.091524e+06        0.000000  180000.000000 -14803.000000   \n",
       "75%    5.117792e+06        1.000000  225000.000000 -12225.500000   \n",
       "max    5.150353e+06        5.000000  900000.000000  -7489.000000   \n",
       "\n",
       "       Employment length  Has a mobile phone  Has a work phone  Has a phone  \\\n",
       "count         156.000000               156.0        156.000000   156.000000   \n",
       "mean        -2550.948718                 1.0          0.294872     0.262821   \n",
       "std          2535.857149                 0.0          0.457454     0.441583   \n",
       "min        -14810.000000                 1.0          0.000000     0.000000   \n",
       "25%         -3402.000000                 1.0          0.000000     0.000000   \n",
       "50%         -1723.000000                 1.0          0.000000     0.000000   \n",
       "75%          -692.000000                 1.0          1.000000     1.000000   \n",
       "max           -65.000000                 1.0          1.000000     1.000000   \n",
       "\n",
       "       Has an email  Family member count  Account age  Is high risk  \n",
       "count    156.000000           156.000000   156.000000     156.00000  \n",
       "mean       0.102564             2.326923   -29.525641       0.50000  \n",
       "std        0.304366             0.923971    18.176003       0.50161  \n",
       "min        0.000000             1.000000   -60.000000       0.00000  \n",
       "25%        0.000000             2.000000   -46.250000       0.00000  \n",
       "50%        0.000000             2.000000   -29.000000       0.50000  \n",
       "75%        0.000000             3.000000   -12.000000       1.00000  \n",
       "max        1.000000             7.000000     0.000000       1.00000  "
      ]
     },
     "execution_count": 185,
     "metadata": {},
     "output_type": "execute_result"
    }
   ],
   "source": [
    "print(\"\\nDescriptive Statistics of Testing Dataset are:\\n\")\n",
    "\n",
    "Updated_test_data.describe()"
   ]
  },
  {
   "cell_type": "markdown",
   "id": "206fc1ef",
   "metadata": {},
   "source": [
    "### Seeing Information of Dataset"
   ]
  },
  {
   "cell_type": "code",
   "execution_count": 186,
   "id": "d7b99add",
   "metadata": {},
   "outputs": [
    {
     "name": "stdout",
     "output_type": "stream",
     "text": [
      "Information of Training Dataset are:\n",
      "\n",
      "<class 'pandas.core.frame.DataFrame'>\n",
      "Int64Index: 688 entries, 16336 to 28800\n",
      "Data columns (total 20 columns):\n",
      " #   Column               Non-Null Count  Dtype  \n",
      "---  ------               --------------  -----  \n",
      " 0   ID                   688 non-null    int64  \n",
      " 1   Gender               688 non-null    object \n",
      " 2   Has a car            688 non-null    object \n",
      " 3   Has a property       688 non-null    object \n",
      " 4   Children count       688 non-null    int64  \n",
      " 5   Income               688 non-null    float64\n",
      " 6   Employment status    688 non-null    object \n",
      " 7   Education level      688 non-null    object \n",
      " 8   Marital status       688 non-null    object \n",
      " 9   Dwelling             688 non-null    object \n",
      " 10  Age                  688 non-null    int64  \n",
      " 11  Employment length    688 non-null    int64  \n",
      " 12  Has a mobile phone   688 non-null    int64  \n",
      " 13  Has a work phone     688 non-null    int64  \n",
      " 14  Has a phone          688 non-null    int64  \n",
      " 15  Has an email         688 non-null    int64  \n",
      " 16  Job title            688 non-null    object \n",
      " 17  Family member count  688 non-null    float64\n",
      " 18  Account age          688 non-null    float64\n",
      " 19  Is high risk         688 non-null    int64  \n",
      "dtypes: float64(3), int64(9), object(8)\n",
      "memory usage: 112.9+ KB\n"
     ]
    }
   ],
   "source": [
    "print(\"Information of Training Dataset are:\\n\")\n",
    "\n",
    "Updated_train_data.info()"
   ]
  },
  {
   "cell_type": "code",
   "execution_count": 187,
   "id": "28f69a7c",
   "metadata": {},
   "outputs": [
    {
     "name": "stdout",
     "output_type": "stream",
     "text": [
      "Information of Testing Dataset are:\n",
      "\n",
      "<class 'pandas.core.frame.DataFrame'>\n",
      "Int64Index: 156 entries, 5970 to 7070\n",
      "Data columns (total 20 columns):\n",
      " #   Column               Non-Null Count  Dtype  \n",
      "---  ------               --------------  -----  \n",
      " 0   ID                   156 non-null    int64  \n",
      " 1   Gender               156 non-null    object \n",
      " 2   Has a car            156 non-null    object \n",
      " 3   Has a property       156 non-null    object \n",
      " 4   Children count       156 non-null    int64  \n",
      " 5   Income               156 non-null    float64\n",
      " 6   Employment status    156 non-null    object \n",
      " 7   Education level      156 non-null    object \n",
      " 8   Marital status       156 non-null    object \n",
      " 9   Dwelling             156 non-null    object \n",
      " 10  Age                  156 non-null    int64  \n",
      " 11  Employment length    156 non-null    int64  \n",
      " 12  Has a mobile phone   156 non-null    int64  \n",
      " 13  Has a work phone     156 non-null    int64  \n",
      " 14  Has a phone          156 non-null    int64  \n",
      " 15  Has an email         156 non-null    int64  \n",
      " 16  Job title            156 non-null    object \n",
      " 17  Family member count  156 non-null    float64\n",
      " 18  Account age          156 non-null    float64\n",
      " 19  Is high risk         156 non-null    int64  \n",
      "dtypes: float64(3), int64(9), object(8)\n",
      "memory usage: 25.6+ KB\n"
     ]
    }
   ],
   "source": [
    "print(\"Information of Testing Dataset are:\\n\")\n",
    "\n",
    "Updated_test_data.info()"
   ]
  },
  {
   "cell_type": "markdown",
   "id": "fa10cdfd",
   "metadata": {},
   "source": [
    "### Categorical Encoding"
   ]
  },
  {
   "cell_type": "code",
   "execution_count": 188,
   "id": "aee76716",
   "metadata": {},
   "outputs": [
    {
     "data": {
      "text/html": [
       "<div>\n",
       "<style scoped>\n",
       "    .dataframe tbody tr th:only-of-type {\n",
       "        vertical-align: middle;\n",
       "    }\n",
       "\n",
       "    .dataframe tbody tr th {\n",
       "        vertical-align: top;\n",
       "    }\n",
       "\n",
       "    .dataframe thead th {\n",
       "        text-align: right;\n",
       "    }\n",
       "</style>\n",
       "<table border=\"1\" class=\"dataframe\">\n",
       "  <thead>\n",
       "    <tr style=\"text-align: right;\">\n",
       "      <th></th>\n",
       "      <th>ID</th>\n",
       "      <th>Gender</th>\n",
       "      <th>Has a car</th>\n",
       "      <th>Has a property</th>\n",
       "      <th>Children count</th>\n",
       "      <th>Income</th>\n",
       "      <th>Employment status</th>\n",
       "      <th>Education level</th>\n",
       "      <th>Marital status</th>\n",
       "      <th>Dwelling</th>\n",
       "      <th>Age</th>\n",
       "      <th>Employment length</th>\n",
       "      <th>Has a mobile phone</th>\n",
       "      <th>Has a work phone</th>\n",
       "      <th>Has a phone</th>\n",
       "      <th>Has an email</th>\n",
       "      <th>Job title</th>\n",
       "      <th>Family member count</th>\n",
       "      <th>Account age</th>\n",
       "      <th>Is high risk</th>\n",
       "    </tr>\n",
       "  </thead>\n",
       "  <tbody>\n",
       "    <tr>\n",
       "      <th>16336</th>\n",
       "      <td>5074548</td>\n",
       "      <td>1</td>\n",
       "      <td>1</td>\n",
       "      <td>1</td>\n",
       "      <td>0</td>\n",
       "      <td>54000.0</td>\n",
       "      <td>3</td>\n",
       "      <td>4</td>\n",
       "      <td>1</td>\n",
       "      <td>1</td>\n",
       "      <td>-19986</td>\n",
       "      <td>-891</td>\n",
       "      <td>1</td>\n",
       "      <td>1</td>\n",
       "      <td>1</td>\n",
       "      <td>0</td>\n",
       "      <td>16</td>\n",
       "      <td>2.0</td>\n",
       "      <td>-28.0</td>\n",
       "      <td>0</td>\n",
       "    </tr>\n",
       "    <tr>\n",
       "      <th>20605</th>\n",
       "      <td>5044600</td>\n",
       "      <td>0</td>\n",
       "      <td>1</td>\n",
       "      <td>1</td>\n",
       "      <td>0</td>\n",
       "      <td>202500.0</td>\n",
       "      <td>3</td>\n",
       "      <td>1</td>\n",
       "      <td>1</td>\n",
       "      <td>1</td>\n",
       "      <td>-21227</td>\n",
       "      <td>-829</td>\n",
       "      <td>1</td>\n",
       "      <td>0</td>\n",
       "      <td>0</td>\n",
       "      <td>0</td>\n",
       "      <td>8</td>\n",
       "      <td>2.0</td>\n",
       "      <td>-22.0</td>\n",
       "      <td>0</td>\n",
       "    </tr>\n",
       "    <tr>\n",
       "      <th>9253</th>\n",
       "      <td>5114113</td>\n",
       "      <td>1</td>\n",
       "      <td>1</td>\n",
       "      <td>0</td>\n",
       "      <td>0</td>\n",
       "      <td>157500.0</td>\n",
       "      <td>3</td>\n",
       "      <td>4</td>\n",
       "      <td>2</td>\n",
       "      <td>1</td>\n",
       "      <td>-17054</td>\n",
       "      <td>-712</td>\n",
       "      <td>1</td>\n",
       "      <td>0</td>\n",
       "      <td>1</td>\n",
       "      <td>0</td>\n",
       "      <td>16</td>\n",
       "      <td>1.0</td>\n",
       "      <td>-17.0</td>\n",
       "      <td>0</td>\n",
       "    </tr>\n",
       "    <tr>\n",
       "      <th>582</th>\n",
       "      <td>5024182</td>\n",
       "      <td>0</td>\n",
       "      <td>0</td>\n",
       "      <td>1</td>\n",
       "      <td>0</td>\n",
       "      <td>81000.0</td>\n",
       "      <td>0</td>\n",
       "      <td>4</td>\n",
       "      <td>1</td>\n",
       "      <td>1</td>\n",
       "      <td>-15580</td>\n",
       "      <td>-3503</td>\n",
       "      <td>1</td>\n",
       "      <td>0</td>\n",
       "      <td>0</td>\n",
       "      <td>0</td>\n",
       "      <td>14</td>\n",
       "      <td>2.0</td>\n",
       "      <td>-56.0</td>\n",
       "      <td>0</td>\n",
       "    </tr>\n",
       "    <tr>\n",
       "      <th>24006</th>\n",
       "      <td>5125391</td>\n",
       "      <td>0</td>\n",
       "      <td>0</td>\n",
       "      <td>1</td>\n",
       "      <td>0</td>\n",
       "      <td>135000.0</td>\n",
       "      <td>2</td>\n",
       "      <td>4</td>\n",
       "      <td>3</td>\n",
       "      <td>1</td>\n",
       "      <td>-10066</td>\n",
       "      <td>-3026</td>\n",
       "      <td>1</td>\n",
       "      <td>1</td>\n",
       "      <td>1</td>\n",
       "      <td>0</td>\n",
       "      <td>6</td>\n",
       "      <td>1.0</td>\n",
       "      <td>-8.0</td>\n",
       "      <td>0</td>\n",
       "    </tr>\n",
       "    <tr>\n",
       "      <th>...</th>\n",
       "      <td>...</td>\n",
       "      <td>...</td>\n",
       "      <td>...</td>\n",
       "      <td>...</td>\n",
       "      <td>...</td>\n",
       "      <td>...</td>\n",
       "      <td>...</td>\n",
       "      <td>...</td>\n",
       "      <td>...</td>\n",
       "      <td>...</td>\n",
       "      <td>...</td>\n",
       "      <td>...</td>\n",
       "      <td>...</td>\n",
       "      <td>...</td>\n",
       "      <td>...</td>\n",
       "      <td>...</td>\n",
       "      <td>...</td>\n",
       "      <td>...</td>\n",
       "      <td>...</td>\n",
       "      <td>...</td>\n",
       "    </tr>\n",
       "    <tr>\n",
       "      <th>28179</th>\n",
       "      <td>5142740</td>\n",
       "      <td>1</td>\n",
       "      <td>0</td>\n",
       "      <td>0</td>\n",
       "      <td>1</td>\n",
       "      <td>360000.0</td>\n",
       "      <td>3</td>\n",
       "      <td>1</td>\n",
       "      <td>1</td>\n",
       "      <td>1</td>\n",
       "      <td>-11112</td>\n",
       "      <td>-469</td>\n",
       "      <td>1</td>\n",
       "      <td>1</td>\n",
       "      <td>1</td>\n",
       "      <td>0</td>\n",
       "      <td>10</td>\n",
       "      <td>3.0</td>\n",
       "      <td>-45.0</td>\n",
       "      <td>1</td>\n",
       "    </tr>\n",
       "    <tr>\n",
       "      <th>28575</th>\n",
       "      <td>5095839</td>\n",
       "      <td>1</td>\n",
       "      <td>0</td>\n",
       "      <td>0</td>\n",
       "      <td>0</td>\n",
       "      <td>225000.0</td>\n",
       "      <td>0</td>\n",
       "      <td>4</td>\n",
       "      <td>1</td>\n",
       "      <td>1</td>\n",
       "      <td>-14882</td>\n",
       "      <td>-1132</td>\n",
       "      <td>1</td>\n",
       "      <td>1</td>\n",
       "      <td>1</td>\n",
       "      <td>0</td>\n",
       "      <td>8</td>\n",
       "      <td>2.0</td>\n",
       "      <td>-39.0</td>\n",
       "      <td>1</td>\n",
       "    </tr>\n",
       "    <tr>\n",
       "      <th>28579</th>\n",
       "      <td>5125832</td>\n",
       "      <td>1</td>\n",
       "      <td>0</td>\n",
       "      <td>1</td>\n",
       "      <td>0</td>\n",
       "      <td>270000.0</td>\n",
       "      <td>0</td>\n",
       "      <td>2</td>\n",
       "      <td>3</td>\n",
       "      <td>1</td>\n",
       "      <td>-11625</td>\n",
       "      <td>-195</td>\n",
       "      <td>1</td>\n",
       "      <td>0</td>\n",
       "      <td>0</td>\n",
       "      <td>1</td>\n",
       "      <td>14</td>\n",
       "      <td>1.0</td>\n",
       "      <td>-10.0</td>\n",
       "      <td>1</td>\n",
       "    </tr>\n",
       "    <tr>\n",
       "      <th>28718</th>\n",
       "      <td>5061132</td>\n",
       "      <td>1</td>\n",
       "      <td>0</td>\n",
       "      <td>1</td>\n",
       "      <td>0</td>\n",
       "      <td>135000.0</td>\n",
       "      <td>2</td>\n",
       "      <td>1</td>\n",
       "      <td>1</td>\n",
       "      <td>1</td>\n",
       "      <td>-19113</td>\n",
       "      <td>-2816</td>\n",
       "      <td>1</td>\n",
       "      <td>0</td>\n",
       "      <td>1</td>\n",
       "      <td>0</td>\n",
       "      <td>3</td>\n",
       "      <td>2.0</td>\n",
       "      <td>-46.0</td>\n",
       "      <td>1</td>\n",
       "    </tr>\n",
       "    <tr>\n",
       "      <th>28800</th>\n",
       "      <td>5050603</td>\n",
       "      <td>1</td>\n",
       "      <td>0</td>\n",
       "      <td>0</td>\n",
       "      <td>0</td>\n",
       "      <td>157500.0</td>\n",
       "      <td>3</td>\n",
       "      <td>4</td>\n",
       "      <td>1</td>\n",
       "      <td>1</td>\n",
       "      <td>-18327</td>\n",
       "      <td>-7288</td>\n",
       "      <td>1</td>\n",
       "      <td>1</td>\n",
       "      <td>0</td>\n",
       "      <td>0</td>\n",
       "      <td>8</td>\n",
       "      <td>2.0</td>\n",
       "      <td>-41.0</td>\n",
       "      <td>1</td>\n",
       "    </tr>\n",
       "  </tbody>\n",
       "</table>\n",
       "<p>688 rows × 20 columns</p>\n",
       "</div>"
      ],
      "text/plain": [
       "            ID  Gender  Has a car  Has a property  Children count    Income  \\\n",
       "16336  5074548       1          1               1               0   54000.0   \n",
       "20605  5044600       0          1               1               0  202500.0   \n",
       "9253   5114113       1          1               0               0  157500.0   \n",
       "582    5024182       0          0               1               0   81000.0   \n",
       "24006  5125391       0          0               1               0  135000.0   \n",
       "...        ...     ...        ...             ...             ...       ...   \n",
       "28179  5142740       1          0               0               1  360000.0   \n",
       "28575  5095839       1          0               0               0  225000.0   \n",
       "28579  5125832       1          0               1               0  270000.0   \n",
       "28718  5061132       1          0               1               0  135000.0   \n",
       "28800  5050603       1          0               0               0  157500.0   \n",
       "\n",
       "       Employment status  Education level  Marital status  Dwelling    Age  \\\n",
       "16336                  3                4               1         1 -19986   \n",
       "20605                  3                1               1         1 -21227   \n",
       "9253                   3                4               2         1 -17054   \n",
       "582                    0                4               1         1 -15580   \n",
       "24006                  2                4               3         1 -10066   \n",
       "...                  ...              ...             ...       ...    ...   \n",
       "28179                  3                1               1         1 -11112   \n",
       "28575                  0                4               1         1 -14882   \n",
       "28579                  0                2               3         1 -11625   \n",
       "28718                  2                1               1         1 -19113   \n",
       "28800                  3                4               1         1 -18327   \n",
       "\n",
       "       Employment length  Has a mobile phone  Has a work phone  Has a phone  \\\n",
       "16336               -891                   1                 1            1   \n",
       "20605               -829                   1                 0            0   \n",
       "9253                -712                   1                 0            1   \n",
       "582                -3503                   1                 0            0   \n",
       "24006              -3026                   1                 1            1   \n",
       "...                  ...                 ...               ...          ...   \n",
       "28179               -469                   1                 1            1   \n",
       "28575              -1132                   1                 1            1   \n",
       "28579               -195                   1                 0            0   \n",
       "28718              -2816                   1                 0            1   \n",
       "28800              -7288                   1                 1            0   \n",
       "\n",
       "       Has an email  Job title  Family member count  Account age  Is high risk  \n",
       "16336             0         16                  2.0        -28.0             0  \n",
       "20605             0          8                  2.0        -22.0             0  \n",
       "9253              0         16                  1.0        -17.0             0  \n",
       "582               0         14                  2.0        -56.0             0  \n",
       "24006             0          6                  1.0         -8.0             0  \n",
       "...             ...        ...                  ...          ...           ...  \n",
       "28179             0         10                  3.0        -45.0             1  \n",
       "28575             0          8                  2.0        -39.0             1  \n",
       "28579             1         14                  1.0        -10.0             1  \n",
       "28718             0          3                  2.0        -46.0             1  \n",
       "28800             0          8                  2.0        -41.0             1  \n",
       "\n",
       "[688 rows x 20 columns]"
      ]
     },
     "execution_count": 188,
     "metadata": {},
     "output_type": "execute_result"
    }
   ],
   "source": [
    "from sklearn.preprocessing import LabelEncoder\n",
    "\n",
    "# Identify object-type columns\n",
    "object_cols = Updated_train_data.select_dtypes(include=['object']).columns\n",
    "\n",
    "# Create a LabelEncoder instance\n",
    "label_encoder = LabelEncoder()\n",
    "\n",
    "# Loop through each object-type column and encode\n",
    "for col in object_cols:\n",
    "    Updated_train_data[col] = label_encoder.fit_transform(Updated_train_data[col])\n",
    "\n",
    "# Display the encoded DataFrame\n",
    "Updated_train_data"
   ]
  },
  {
   "cell_type": "code",
   "execution_count": 189,
   "id": "06c67e32",
   "metadata": {},
   "outputs": [
    {
     "data": {
      "text/html": [
       "<div>\n",
       "<style scoped>\n",
       "    .dataframe tbody tr th:only-of-type {\n",
       "        vertical-align: middle;\n",
       "    }\n",
       "\n",
       "    .dataframe tbody tr th {\n",
       "        vertical-align: top;\n",
       "    }\n",
       "\n",
       "    .dataframe thead th {\n",
       "        text-align: right;\n",
       "    }\n",
       "</style>\n",
       "<table border=\"1\" class=\"dataframe\">\n",
       "  <thead>\n",
       "    <tr style=\"text-align: right;\">\n",
       "      <th></th>\n",
       "      <th>ID</th>\n",
       "      <th>Gender</th>\n",
       "      <th>Has a car</th>\n",
       "      <th>Has a property</th>\n",
       "      <th>Children count</th>\n",
       "      <th>Income</th>\n",
       "      <th>Employment status</th>\n",
       "      <th>Education level</th>\n",
       "      <th>Marital status</th>\n",
       "      <th>Dwelling</th>\n",
       "      <th>Age</th>\n",
       "      <th>Employment length</th>\n",
       "      <th>Has a mobile phone</th>\n",
       "      <th>Has a work phone</th>\n",
       "      <th>Has a phone</th>\n",
       "      <th>Has an email</th>\n",
       "      <th>Job title</th>\n",
       "      <th>Family member count</th>\n",
       "      <th>Account age</th>\n",
       "      <th>Is high risk</th>\n",
       "    </tr>\n",
       "  </thead>\n",
       "  <tbody>\n",
       "    <tr>\n",
       "      <th>5970</th>\n",
       "      <td>5008945</td>\n",
       "      <td>0</td>\n",
       "      <td>0</td>\n",
       "      <td>0</td>\n",
       "      <td>0</td>\n",
       "      <td>157500.0</td>\n",
       "      <td>0</td>\n",
       "      <td>0</td>\n",
       "      <td>1</td>\n",
       "      <td>1</td>\n",
       "      <td>-13642</td>\n",
       "      <td>-4846</td>\n",
       "      <td>1</td>\n",
       "      <td>0</td>\n",
       "      <td>1</td>\n",
       "      <td>0</td>\n",
       "      <td>5</td>\n",
       "      <td>2.0</td>\n",
       "      <td>-30.0</td>\n",
       "      <td>0</td>\n",
       "    </tr>\n",
       "    <tr>\n",
       "      <th>5197</th>\n",
       "      <td>5116088</td>\n",
       "      <td>0</td>\n",
       "      <td>0</td>\n",
       "      <td>1</td>\n",
       "      <td>1</td>\n",
       "      <td>360000.0</td>\n",
       "      <td>0</td>\n",
       "      <td>2</td>\n",
       "      <td>1</td>\n",
       "      <td>1</td>\n",
       "      <td>-15812</td>\n",
       "      <td>-565</td>\n",
       "      <td>1</td>\n",
       "      <td>0</td>\n",
       "      <td>0</td>\n",
       "      <td>0</td>\n",
       "      <td>0</td>\n",
       "      <td>3.0</td>\n",
       "      <td>-43.0</td>\n",
       "      <td>0</td>\n",
       "    </tr>\n",
       "    <tr>\n",
       "      <th>1175</th>\n",
       "      <td>5091503</td>\n",
       "      <td>0</td>\n",
       "      <td>0</td>\n",
       "      <td>0</td>\n",
       "      <td>0</td>\n",
       "      <td>135000.0</td>\n",
       "      <td>3</td>\n",
       "      <td>2</td>\n",
       "      <td>1</td>\n",
       "      <td>1</td>\n",
       "      <td>-18757</td>\n",
       "      <td>-2057</td>\n",
       "      <td>1</td>\n",
       "      <td>0</td>\n",
       "      <td>0</td>\n",
       "      <td>0</td>\n",
       "      <td>3</td>\n",
       "      <td>2.0</td>\n",
       "      <td>-54.0</td>\n",
       "      <td>0</td>\n",
       "    </tr>\n",
       "    <tr>\n",
       "      <th>31</th>\n",
       "      <td>5026054</td>\n",
       "      <td>1</td>\n",
       "      <td>1</td>\n",
       "      <td>1</td>\n",
       "      <td>1</td>\n",
       "      <td>315000.0</td>\n",
       "      <td>3</td>\n",
       "      <td>0</td>\n",
       "      <td>1</td>\n",
       "      <td>1</td>\n",
       "      <td>-10580</td>\n",
       "      <td>-2566</td>\n",
       "      <td>1</td>\n",
       "      <td>0</td>\n",
       "      <td>0</td>\n",
       "      <td>0</td>\n",
       "      <td>3</td>\n",
       "      <td>3.0</td>\n",
       "      <td>-11.0</td>\n",
       "      <td>0</td>\n",
       "    </tr>\n",
       "    <tr>\n",
       "      <th>1940</th>\n",
       "      <td>5065767</td>\n",
       "      <td>0</td>\n",
       "      <td>0</td>\n",
       "      <td>1</td>\n",
       "      <td>0</td>\n",
       "      <td>189000.0</td>\n",
       "      <td>3</td>\n",
       "      <td>2</td>\n",
       "      <td>1</td>\n",
       "      <td>1</td>\n",
       "      <td>-14402</td>\n",
       "      <td>-1059</td>\n",
       "      <td>1</td>\n",
       "      <td>0</td>\n",
       "      <td>0</td>\n",
       "      <td>1</td>\n",
       "      <td>12</td>\n",
       "      <td>2.0</td>\n",
       "      <td>-9.0</td>\n",
       "      <td>0</td>\n",
       "    </tr>\n",
       "    <tr>\n",
       "      <th>...</th>\n",
       "      <td>...</td>\n",
       "      <td>...</td>\n",
       "      <td>...</td>\n",
       "      <td>...</td>\n",
       "      <td>...</td>\n",
       "      <td>...</td>\n",
       "      <td>...</td>\n",
       "      <td>...</td>\n",
       "      <td>...</td>\n",
       "      <td>...</td>\n",
       "      <td>...</td>\n",
       "      <td>...</td>\n",
       "      <td>...</td>\n",
       "      <td>...</td>\n",
       "      <td>...</td>\n",
       "      <td>...</td>\n",
       "      <td>...</td>\n",
       "      <td>...</td>\n",
       "      <td>...</td>\n",
       "      <td>...</td>\n",
       "    </tr>\n",
       "    <tr>\n",
       "      <th>6557</th>\n",
       "      <td>5069216</td>\n",
       "      <td>0</td>\n",
       "      <td>1</td>\n",
       "      <td>1</td>\n",
       "      <td>0</td>\n",
       "      <td>256500.0</td>\n",
       "      <td>0</td>\n",
       "      <td>0</td>\n",
       "      <td>1</td>\n",
       "      <td>1</td>\n",
       "      <td>-11210</td>\n",
       "      <td>-1724</td>\n",
       "      <td>1</td>\n",
       "      <td>1</td>\n",
       "      <td>0</td>\n",
       "      <td>0</td>\n",
       "      <td>0</td>\n",
       "      <td>2.0</td>\n",
       "      <td>-60.0</td>\n",
       "      <td>1</td>\n",
       "    </tr>\n",
       "    <tr>\n",
       "      <th>6622</th>\n",
       "      <td>5096209</td>\n",
       "      <td>1</td>\n",
       "      <td>0</td>\n",
       "      <td>0</td>\n",
       "      <td>0</td>\n",
       "      <td>81000.0</td>\n",
       "      <td>3</td>\n",
       "      <td>2</td>\n",
       "      <td>0</td>\n",
       "      <td>1</td>\n",
       "      <td>-14211</td>\n",
       "      <td>-158</td>\n",
       "      <td>1</td>\n",
       "      <td>1</td>\n",
       "      <td>0</td>\n",
       "      <td>0</td>\n",
       "      <td>7</td>\n",
       "      <td>2.0</td>\n",
       "      <td>-12.0</td>\n",
       "      <td>1</td>\n",
       "    </tr>\n",
       "    <tr>\n",
       "      <th>6901</th>\n",
       "      <td>5068779</td>\n",
       "      <td>0</td>\n",
       "      <td>0</td>\n",
       "      <td>0</td>\n",
       "      <td>0</td>\n",
       "      <td>180000.0</td>\n",
       "      <td>3</td>\n",
       "      <td>2</td>\n",
       "      <td>3</td>\n",
       "      <td>5</td>\n",
       "      <td>-13396</td>\n",
       "      <td>-3853</td>\n",
       "      <td>1</td>\n",
       "      <td>1</td>\n",
       "      <td>1</td>\n",
       "      <td>0</td>\n",
       "      <td>10</td>\n",
       "      <td>1.0</td>\n",
       "      <td>-11.0</td>\n",
       "      <td>1</td>\n",
       "    </tr>\n",
       "    <tr>\n",
       "      <th>6958</th>\n",
       "      <td>5095815</td>\n",
       "      <td>0</td>\n",
       "      <td>0</td>\n",
       "      <td>0</td>\n",
       "      <td>3</td>\n",
       "      <td>112500.0</td>\n",
       "      <td>3</td>\n",
       "      <td>1</td>\n",
       "      <td>1</td>\n",
       "      <td>2</td>\n",
       "      <td>-15447</td>\n",
       "      <td>-2470</td>\n",
       "      <td>1</td>\n",
       "      <td>1</td>\n",
       "      <td>0</td>\n",
       "      <td>0</td>\n",
       "      <td>12</td>\n",
       "      <td>5.0</td>\n",
       "      <td>-51.0</td>\n",
       "      <td>1</td>\n",
       "    </tr>\n",
       "    <tr>\n",
       "      <th>7070</th>\n",
       "      <td>5105788</td>\n",
       "      <td>1</td>\n",
       "      <td>1</td>\n",
       "      <td>0</td>\n",
       "      <td>0</td>\n",
       "      <td>459000.0</td>\n",
       "      <td>0</td>\n",
       "      <td>2</td>\n",
       "      <td>1</td>\n",
       "      <td>1</td>\n",
       "      <td>-15980</td>\n",
       "      <td>-119</td>\n",
       "      <td>1</td>\n",
       "      <td>1</td>\n",
       "      <td>1</td>\n",
       "      <td>0</td>\n",
       "      <td>4</td>\n",
       "      <td>2.0</td>\n",
       "      <td>-14.0</td>\n",
       "      <td>1</td>\n",
       "    </tr>\n",
       "  </tbody>\n",
       "</table>\n",
       "<p>156 rows × 20 columns</p>\n",
       "</div>"
      ],
      "text/plain": [
       "           ID  Gender  Has a car  Has a property  Children count    Income  \\\n",
       "5970  5008945       0          0               0               0  157500.0   \n",
       "5197  5116088       0          0               1               1  360000.0   \n",
       "1175  5091503       0          0               0               0  135000.0   \n",
       "31    5026054       1          1               1               1  315000.0   \n",
       "1940  5065767       0          0               1               0  189000.0   \n",
       "...       ...     ...        ...             ...             ...       ...   \n",
       "6557  5069216       0          1               1               0  256500.0   \n",
       "6622  5096209       1          0               0               0   81000.0   \n",
       "6901  5068779       0          0               0               0  180000.0   \n",
       "6958  5095815       0          0               0               3  112500.0   \n",
       "7070  5105788       1          1               0               0  459000.0   \n",
       "\n",
       "      Employment status  Education level  Marital status  Dwelling    Age  \\\n",
       "5970                  0                0               1         1 -13642   \n",
       "5197                  0                2               1         1 -15812   \n",
       "1175                  3                2               1         1 -18757   \n",
       "31                    3                0               1         1 -10580   \n",
       "1940                  3                2               1         1 -14402   \n",
       "...                 ...              ...             ...       ...    ...   \n",
       "6557                  0                0               1         1 -11210   \n",
       "6622                  3                2               0         1 -14211   \n",
       "6901                  3                2               3         5 -13396   \n",
       "6958                  3                1               1         2 -15447   \n",
       "7070                  0                2               1         1 -15980   \n",
       "\n",
       "      Employment length  Has a mobile phone  Has a work phone  Has a phone  \\\n",
       "5970              -4846                   1                 0            1   \n",
       "5197               -565                   1                 0            0   \n",
       "1175              -2057                   1                 0            0   \n",
       "31                -2566                   1                 0            0   \n",
       "1940              -1059                   1                 0            0   \n",
       "...                 ...                 ...               ...          ...   \n",
       "6557              -1724                   1                 1            0   \n",
       "6622               -158                   1                 1            0   \n",
       "6901              -3853                   1                 1            1   \n",
       "6958              -2470                   1                 1            0   \n",
       "7070               -119                   1                 1            1   \n",
       "\n",
       "      Has an email  Job title  Family member count  Account age  Is high risk  \n",
       "5970             0          5                  2.0        -30.0             0  \n",
       "5197             0          0                  3.0        -43.0             0  \n",
       "1175             0          3                  2.0        -54.0             0  \n",
       "31               0          3                  3.0        -11.0             0  \n",
       "1940             1         12                  2.0         -9.0             0  \n",
       "...            ...        ...                  ...          ...           ...  \n",
       "6557             0          0                  2.0        -60.0             1  \n",
       "6622             0          7                  2.0        -12.0             1  \n",
       "6901             0         10                  1.0        -11.0             1  \n",
       "6958             0         12                  5.0        -51.0             1  \n",
       "7070             0          4                  2.0        -14.0             1  \n",
       "\n",
       "[156 rows x 20 columns]"
      ]
     },
     "execution_count": 189,
     "metadata": {},
     "output_type": "execute_result"
    }
   ],
   "source": [
    "from sklearn.preprocessing import LabelEncoder\n",
    "\n",
    "# Identify object-type columns\n",
    "object_cols = Updated_test_data.select_dtypes(include=['object']).columns\n",
    "\n",
    "# Create a LabelEncoder instance\n",
    "label_encoder = LabelEncoder()\n",
    "\n",
    "# Loop through each object-type column and encode\n",
    "for col in object_cols:\n",
    "    Updated_test_data[col] = label_encoder.fit_transform(Updated_test_data[col])\n",
    "\n",
    "# Display the encoded DataFrame\n",
    "Updated_test_data"
   ]
  },
  {
   "cell_type": "markdown",
   "id": "f11d5f52",
   "metadata": {},
   "source": [
    "### Normalizing Features"
   ]
  },
  {
   "cell_type": "code",
   "execution_count": 190,
   "id": "387940b6",
   "metadata": {},
   "outputs": [
    {
     "data": {
      "text/plain": [
       "Index(['ID', 'Gender', 'Has a car', 'Has a property', 'Children count',\n",
       "       'Income', 'Employment status', 'Education level', 'Marital status',\n",
       "       'Dwelling', 'Age', 'Employment length', 'Has a mobile phone',\n",
       "       'Has a work phone', 'Has a phone', 'Has an email', 'Job title',\n",
       "       'Family member count', 'Account age', 'Is high risk'],\n",
       "      dtype='object')"
      ]
     },
     "execution_count": 190,
     "metadata": {},
     "output_type": "execute_result"
    }
   ],
   "source": [
    "Updated_test_data.columns"
   ]
  },
  {
   "cell_type": "code",
   "execution_count": 191,
   "id": "7b06cc1f",
   "metadata": {},
   "outputs": [
    {
     "data": {
      "text/html": [
       "<div>\n",
       "<style scoped>\n",
       "    .dataframe tbody tr th:only-of-type {\n",
       "        vertical-align: middle;\n",
       "    }\n",
       "\n",
       "    .dataframe tbody tr th {\n",
       "        vertical-align: top;\n",
       "    }\n",
       "\n",
       "    .dataframe thead th {\n",
       "        text-align: right;\n",
       "    }\n",
       "</style>\n",
       "<table border=\"1\" class=\"dataframe\">\n",
       "  <thead>\n",
       "    <tr style=\"text-align: right;\">\n",
       "      <th></th>\n",
       "      <th>ID</th>\n",
       "      <th>Gender</th>\n",
       "      <th>Has a car</th>\n",
       "      <th>Has a property</th>\n",
       "      <th>Children count</th>\n",
       "      <th>Income</th>\n",
       "      <th>Employment status</th>\n",
       "      <th>Education level</th>\n",
       "      <th>Marital status</th>\n",
       "      <th>Dwelling</th>\n",
       "      <th>Age</th>\n",
       "      <th>Employment length</th>\n",
       "      <th>Has a mobile phone</th>\n",
       "      <th>Has a work phone</th>\n",
       "      <th>Has a phone</th>\n",
       "      <th>Has an email</th>\n",
       "      <th>Job title</th>\n",
       "      <th>Family member count</th>\n",
       "      <th>Account age</th>\n",
       "      <th>Is high risk</th>\n",
       "    </tr>\n",
       "  </thead>\n",
       "  <tbody>\n",
       "    <tr>\n",
       "      <th>16336</th>\n",
       "      <td>5074548</td>\n",
       "      <td>1</td>\n",
       "      <td>1</td>\n",
       "      <td>1</td>\n",
       "      <td>0</td>\n",
       "      <td>0.008333</td>\n",
       "      <td>3</td>\n",
       "      <td>4</td>\n",
       "      <td>1</td>\n",
       "      <td>1</td>\n",
       "      <td>0.229696</td>\n",
       "      <td>0.932978</td>\n",
       "      <td>1</td>\n",
       "      <td>1</td>\n",
       "      <td>1</td>\n",
       "      <td>0</td>\n",
       "      <td>16</td>\n",
       "      <td>2.0</td>\n",
       "      <td>0.533333</td>\n",
       "      <td>0</td>\n",
       "    </tr>\n",
       "    <tr>\n",
       "      <th>20605</th>\n",
       "      <td>5044600</td>\n",
       "      <td>0</td>\n",
       "      <td>1</td>\n",
       "      <td>1</td>\n",
       "      <td>0</td>\n",
       "      <td>0.145833</td>\n",
       "      <td>3</td>\n",
       "      <td>1</td>\n",
       "      <td>1</td>\n",
       "      <td>1</td>\n",
       "      <td>0.148807</td>\n",
       "      <td>0.938058</td>\n",
       "      <td>1</td>\n",
       "      <td>0</td>\n",
       "      <td>0</td>\n",
       "      <td>0</td>\n",
       "      <td>8</td>\n",
       "      <td>2.0</td>\n",
       "      <td>0.633333</td>\n",
       "      <td>0</td>\n",
       "    </tr>\n",
       "    <tr>\n",
       "      <th>9253</th>\n",
       "      <td>5114113</td>\n",
       "      <td>1</td>\n",
       "      <td>1</td>\n",
       "      <td>0</td>\n",
       "      <td>0</td>\n",
       "      <td>0.104167</td>\n",
       "      <td>3</td>\n",
       "      <td>4</td>\n",
       "      <td>2</td>\n",
       "      <td>1</td>\n",
       "      <td>0.420806</td>\n",
       "      <td>0.947644</td>\n",
       "      <td>1</td>\n",
       "      <td>0</td>\n",
       "      <td>1</td>\n",
       "      <td>0</td>\n",
       "      <td>16</td>\n",
       "      <td>1.0</td>\n",
       "      <td>0.716667</td>\n",
       "      <td>0</td>\n",
       "    </tr>\n",
       "    <tr>\n",
       "      <th>582</th>\n",
       "      <td>5024182</td>\n",
       "      <td>0</td>\n",
       "      <td>0</td>\n",
       "      <td>1</td>\n",
       "      <td>0</td>\n",
       "      <td>0.033333</td>\n",
       "      <td>0</td>\n",
       "      <td>4</td>\n",
       "      <td>1</td>\n",
       "      <td>1</td>\n",
       "      <td>0.516882</td>\n",
       "      <td>0.718968</td>\n",
       "      <td>1</td>\n",
       "      <td>0</td>\n",
       "      <td>0</td>\n",
       "      <td>0</td>\n",
       "      <td>14</td>\n",
       "      <td>2.0</td>\n",
       "      <td>0.066667</td>\n",
       "      <td>0</td>\n",
       "    </tr>\n",
       "    <tr>\n",
       "      <th>24006</th>\n",
       "      <td>5125391</td>\n",
       "      <td>0</td>\n",
       "      <td>0</td>\n",
       "      <td>1</td>\n",
       "      <td>0</td>\n",
       "      <td>0.083333</td>\n",
       "      <td>2</td>\n",
       "      <td>4</td>\n",
       "      <td>3</td>\n",
       "      <td>1</td>\n",
       "      <td>0.876287</td>\n",
       "      <td>0.758050</td>\n",
       "      <td>1</td>\n",
       "      <td>1</td>\n",
       "      <td>1</td>\n",
       "      <td>0</td>\n",
       "      <td>6</td>\n",
       "      <td>1.0</td>\n",
       "      <td>0.866667</td>\n",
       "      <td>0</td>\n",
       "    </tr>\n",
       "    <tr>\n",
       "      <th>...</th>\n",
       "      <td>...</td>\n",
       "      <td>...</td>\n",
       "      <td>...</td>\n",
       "      <td>...</td>\n",
       "      <td>...</td>\n",
       "      <td>...</td>\n",
       "      <td>...</td>\n",
       "      <td>...</td>\n",
       "      <td>...</td>\n",
       "      <td>...</td>\n",
       "      <td>...</td>\n",
       "      <td>...</td>\n",
       "      <td>...</td>\n",
       "      <td>...</td>\n",
       "      <td>...</td>\n",
       "      <td>...</td>\n",
       "      <td>...</td>\n",
       "      <td>...</td>\n",
       "      <td>...</td>\n",
       "      <td>...</td>\n",
       "    </tr>\n",
       "    <tr>\n",
       "      <th>28179</th>\n",
       "      <td>5142740</td>\n",
       "      <td>1</td>\n",
       "      <td>0</td>\n",
       "      <td>0</td>\n",
       "      <td>1</td>\n",
       "      <td>0.291667</td>\n",
       "      <td>3</td>\n",
       "      <td>1</td>\n",
       "      <td>1</td>\n",
       "      <td>1</td>\n",
       "      <td>0.808108</td>\n",
       "      <td>0.967554</td>\n",
       "      <td>1</td>\n",
       "      <td>1</td>\n",
       "      <td>1</td>\n",
       "      <td>0</td>\n",
       "      <td>10</td>\n",
       "      <td>3.0</td>\n",
       "      <td>0.250000</td>\n",
       "      <td>1</td>\n",
       "    </tr>\n",
       "    <tr>\n",
       "      <th>28575</th>\n",
       "      <td>5095839</td>\n",
       "      <td>1</td>\n",
       "      <td>0</td>\n",
       "      <td>0</td>\n",
       "      <td>0</td>\n",
       "      <td>0.166667</td>\n",
       "      <td>0</td>\n",
       "      <td>4</td>\n",
       "      <td>1</td>\n",
       "      <td>1</td>\n",
       "      <td>0.562378</td>\n",
       "      <td>0.913232</td>\n",
       "      <td>1</td>\n",
       "      <td>1</td>\n",
       "      <td>1</td>\n",
       "      <td>0</td>\n",
       "      <td>8</td>\n",
       "      <td>2.0</td>\n",
       "      <td>0.350000</td>\n",
       "      <td>1</td>\n",
       "    </tr>\n",
       "    <tr>\n",
       "      <th>28579</th>\n",
       "      <td>5125832</td>\n",
       "      <td>1</td>\n",
       "      <td>0</td>\n",
       "      <td>1</td>\n",
       "      <td>0</td>\n",
       "      <td>0.208333</td>\n",
       "      <td>0</td>\n",
       "      <td>2</td>\n",
       "      <td>3</td>\n",
       "      <td>1</td>\n",
       "      <td>0.774671</td>\n",
       "      <td>0.990004</td>\n",
       "      <td>1</td>\n",
       "      <td>0</td>\n",
       "      <td>0</td>\n",
       "      <td>1</td>\n",
       "      <td>14</td>\n",
       "      <td>1.0</td>\n",
       "      <td>0.833333</td>\n",
       "      <td>1</td>\n",
       "    </tr>\n",
       "    <tr>\n",
       "      <th>28718</th>\n",
       "      <td>5061132</td>\n",
       "      <td>1</td>\n",
       "      <td>0</td>\n",
       "      <td>1</td>\n",
       "      <td>0</td>\n",
       "      <td>0.083333</td>\n",
       "      <td>2</td>\n",
       "      <td>1</td>\n",
       "      <td>1</td>\n",
       "      <td>1</td>\n",
       "      <td>0.286599</td>\n",
       "      <td>0.775256</td>\n",
       "      <td>1</td>\n",
       "      <td>0</td>\n",
       "      <td>1</td>\n",
       "      <td>0</td>\n",
       "      <td>3</td>\n",
       "      <td>2.0</td>\n",
       "      <td>0.233333</td>\n",
       "      <td>1</td>\n",
       "    </tr>\n",
       "    <tr>\n",
       "      <th>28800</th>\n",
       "      <td>5050603</td>\n",
       "      <td>1</td>\n",
       "      <td>0</td>\n",
       "      <td>0</td>\n",
       "      <td>0</td>\n",
       "      <td>0.104167</td>\n",
       "      <td>3</td>\n",
       "      <td>4</td>\n",
       "      <td>1</td>\n",
       "      <td>1</td>\n",
       "      <td>0.337831</td>\n",
       "      <td>0.408849</td>\n",
       "      <td>1</td>\n",
       "      <td>1</td>\n",
       "      <td>0</td>\n",
       "      <td>0</td>\n",
       "      <td>8</td>\n",
       "      <td>2.0</td>\n",
       "      <td>0.316667</td>\n",
       "      <td>1</td>\n",
       "    </tr>\n",
       "  </tbody>\n",
       "</table>\n",
       "<p>688 rows × 20 columns</p>\n",
       "</div>"
      ],
      "text/plain": [
       "            ID  Gender  Has a car  Has a property  Children count    Income  \\\n",
       "16336  5074548       1          1               1               0  0.008333   \n",
       "20605  5044600       0          1               1               0  0.145833   \n",
       "9253   5114113       1          1               0               0  0.104167   \n",
       "582    5024182       0          0               1               0  0.033333   \n",
       "24006  5125391       0          0               1               0  0.083333   \n",
       "...        ...     ...        ...             ...             ...       ...   \n",
       "28179  5142740       1          0               0               1  0.291667   \n",
       "28575  5095839       1          0               0               0  0.166667   \n",
       "28579  5125832       1          0               1               0  0.208333   \n",
       "28718  5061132       1          0               1               0  0.083333   \n",
       "28800  5050603       1          0               0               0  0.104167   \n",
       "\n",
       "       Employment status  Education level  Marital status  Dwelling       Age  \\\n",
       "16336                  3                4               1         1  0.229696   \n",
       "20605                  3                1               1         1  0.148807   \n",
       "9253                   3                4               2         1  0.420806   \n",
       "582                    0                4               1         1  0.516882   \n",
       "24006                  2                4               3         1  0.876287   \n",
       "...                  ...              ...             ...       ...       ...   \n",
       "28179                  3                1               1         1  0.808108   \n",
       "28575                  0                4               1         1  0.562378   \n",
       "28579                  0                2               3         1  0.774671   \n",
       "28718                  2                1               1         1  0.286599   \n",
       "28800                  3                4               1         1  0.337831   \n",
       "\n",
       "       Employment length  Has a mobile phone  Has a work phone  Has a phone  \\\n",
       "16336           0.932978                   1                 1            1   \n",
       "20605           0.938058                   1                 0            0   \n",
       "9253            0.947644                   1                 0            1   \n",
       "582             0.718968                   1                 0            0   \n",
       "24006           0.758050                   1                 1            1   \n",
       "...                  ...                 ...               ...          ...   \n",
       "28179           0.967554                   1                 1            1   \n",
       "28575           0.913232                   1                 1            1   \n",
       "28579           0.990004                   1                 0            0   \n",
       "28718           0.775256                   1                 0            1   \n",
       "28800           0.408849                   1                 1            0   \n",
       "\n",
       "       Has an email  Job title  Family member count  Account age  Is high risk  \n",
       "16336             0         16                  2.0     0.533333             0  \n",
       "20605             0          8                  2.0     0.633333             0  \n",
       "9253              0         16                  1.0     0.716667             0  \n",
       "582               0         14                  2.0     0.066667             0  \n",
       "24006             0          6                  1.0     0.866667             0  \n",
       "...             ...        ...                  ...          ...           ...  \n",
       "28179             0         10                  3.0     0.250000             1  \n",
       "28575             0          8                  2.0     0.350000             1  \n",
       "28579             1         14                  1.0     0.833333             1  \n",
       "28718             0          3                  2.0     0.233333             1  \n",
       "28800             0          8                  2.0     0.316667             1  \n",
       "\n",
       "[688 rows x 20 columns]"
      ]
     },
     "execution_count": 191,
     "metadata": {},
     "output_type": "execute_result"
    }
   ],
   "source": [
    "from sklearn.preprocessing import MinMaxScaler\n",
    "\n",
    "# Identify numeric columns\n",
    "numeric_cols = ['Income', 'Employment length', 'Account age', 'Age']\n",
    "\n",
    "# Create a MinMaxScaler instance\n",
    "min_max_scaler = MinMaxScaler()\n",
    "\n",
    "# Loop through each numeric column and normalize\n",
    "for col in numeric_cols:\n",
    "    Updated_train_data[col] = min_max_scaler.fit_transform(Updated_train_data[[col]])\n",
    "\n",
    "# Display the normalized DataFrame\n",
    "Updated_train_data"
   ]
  },
  {
   "cell_type": "code",
   "execution_count": 192,
   "id": "5fe058d4",
   "metadata": {},
   "outputs": [
    {
     "data": {
      "text/html": [
       "<div>\n",
       "<style scoped>\n",
       "    .dataframe tbody tr th:only-of-type {\n",
       "        vertical-align: middle;\n",
       "    }\n",
       "\n",
       "    .dataframe tbody tr th {\n",
       "        vertical-align: top;\n",
       "    }\n",
       "\n",
       "    .dataframe thead th {\n",
       "        text-align: right;\n",
       "    }\n",
       "</style>\n",
       "<table border=\"1\" class=\"dataframe\">\n",
       "  <thead>\n",
       "    <tr style=\"text-align: right;\">\n",
       "      <th></th>\n",
       "      <th>ID</th>\n",
       "      <th>Gender</th>\n",
       "      <th>Has a car</th>\n",
       "      <th>Has a property</th>\n",
       "      <th>Children count</th>\n",
       "      <th>Income</th>\n",
       "      <th>Employment status</th>\n",
       "      <th>Education level</th>\n",
       "      <th>Marital status</th>\n",
       "      <th>Dwelling</th>\n",
       "      <th>Age</th>\n",
       "      <th>Employment length</th>\n",
       "      <th>Has a mobile phone</th>\n",
       "      <th>Has a work phone</th>\n",
       "      <th>Has a phone</th>\n",
       "      <th>Has an email</th>\n",
       "      <th>Job title</th>\n",
       "      <th>Family member count</th>\n",
       "      <th>Account age</th>\n",
       "      <th>Is high risk</th>\n",
       "    </tr>\n",
       "  </thead>\n",
       "  <tbody>\n",
       "    <tr>\n",
       "      <th>5970</th>\n",
       "      <td>5008945</td>\n",
       "      <td>0</td>\n",
       "      <td>0</td>\n",
       "      <td>0</td>\n",
       "      <td>0</td>\n",
       "      <td>0.140625</td>\n",
       "      <td>0</td>\n",
       "      <td>0</td>\n",
       "      <td>1</td>\n",
       "      <td>1</td>\n",
       "      <td>0.598132</td>\n",
       "      <td>0.675754</td>\n",
       "      <td>1</td>\n",
       "      <td>0</td>\n",
       "      <td>1</td>\n",
       "      <td>0</td>\n",
       "      <td>5</td>\n",
       "      <td>2.0</td>\n",
       "      <td>0.500000</td>\n",
       "      <td>0</td>\n",
       "    </tr>\n",
       "    <tr>\n",
       "      <th>5197</th>\n",
       "      <td>5116088</td>\n",
       "      <td>0</td>\n",
       "      <td>0</td>\n",
       "      <td>1</td>\n",
       "      <td>1</td>\n",
       "      <td>0.375000</td>\n",
       "      <td>0</td>\n",
       "      <td>2</td>\n",
       "      <td>1</td>\n",
       "      <td>1</td>\n",
       "      <td>0.456404</td>\n",
       "      <td>0.966090</td>\n",
       "      <td>1</td>\n",
       "      <td>0</td>\n",
       "      <td>0</td>\n",
       "      <td>0</td>\n",
       "      <td>0</td>\n",
       "      <td>3.0</td>\n",
       "      <td>0.283333</td>\n",
       "      <td>0</td>\n",
       "    </tr>\n",
       "    <tr>\n",
       "      <th>1175</th>\n",
       "      <td>5091503</td>\n",
       "      <td>0</td>\n",
       "      <td>0</td>\n",
       "      <td>0</td>\n",
       "      <td>0</td>\n",
       "      <td>0.114583</td>\n",
       "      <td>3</td>\n",
       "      <td>2</td>\n",
       "      <td>1</td>\n",
       "      <td>1</td>\n",
       "      <td>0.264059</td>\n",
       "      <td>0.864903</td>\n",
       "      <td>1</td>\n",
       "      <td>0</td>\n",
       "      <td>0</td>\n",
       "      <td>0</td>\n",
       "      <td>3</td>\n",
       "      <td>2.0</td>\n",
       "      <td>0.100000</td>\n",
       "      <td>0</td>\n",
       "    </tr>\n",
       "    <tr>\n",
       "      <th>31</th>\n",
       "      <td>5026054</td>\n",
       "      <td>1</td>\n",
       "      <td>1</td>\n",
       "      <td>1</td>\n",
       "      <td>1</td>\n",
       "      <td>0.322917</td>\n",
       "      <td>3</td>\n",
       "      <td>0</td>\n",
       "      <td>1</td>\n",
       "      <td>1</td>\n",
       "      <td>0.798119</td>\n",
       "      <td>0.830383</td>\n",
       "      <td>1</td>\n",
       "      <td>0</td>\n",
       "      <td>0</td>\n",
       "      <td>0</td>\n",
       "      <td>3</td>\n",
       "      <td>3.0</td>\n",
       "      <td>0.816667</td>\n",
       "      <td>0</td>\n",
       "    </tr>\n",
       "    <tr>\n",
       "      <th>1940</th>\n",
       "      <td>5065767</td>\n",
       "      <td>0</td>\n",
       "      <td>0</td>\n",
       "      <td>1</td>\n",
       "      <td>0</td>\n",
       "      <td>0.177083</td>\n",
       "      <td>3</td>\n",
       "      <td>2</td>\n",
       "      <td>1</td>\n",
       "      <td>1</td>\n",
       "      <td>0.548495</td>\n",
       "      <td>0.932587</td>\n",
       "      <td>1</td>\n",
       "      <td>0</td>\n",
       "      <td>0</td>\n",
       "      <td>1</td>\n",
       "      <td>12</td>\n",
       "      <td>2.0</td>\n",
       "      <td>0.850000</td>\n",
       "      <td>0</td>\n",
       "    </tr>\n",
       "    <tr>\n",
       "      <th>...</th>\n",
       "      <td>...</td>\n",
       "      <td>...</td>\n",
       "      <td>...</td>\n",
       "      <td>...</td>\n",
       "      <td>...</td>\n",
       "      <td>...</td>\n",
       "      <td>...</td>\n",
       "      <td>...</td>\n",
       "      <td>...</td>\n",
       "      <td>...</td>\n",
       "      <td>...</td>\n",
       "      <td>...</td>\n",
       "      <td>...</td>\n",
       "      <td>...</td>\n",
       "      <td>...</td>\n",
       "      <td>...</td>\n",
       "      <td>...</td>\n",
       "      <td>...</td>\n",
       "      <td>...</td>\n",
       "      <td>...</td>\n",
       "    </tr>\n",
       "    <tr>\n",
       "      <th>6557</th>\n",
       "      <td>5069216</td>\n",
       "      <td>0</td>\n",
       "      <td>1</td>\n",
       "      <td>1</td>\n",
       "      <td>0</td>\n",
       "      <td>0.255208</td>\n",
       "      <td>0</td>\n",
       "      <td>0</td>\n",
       "      <td>1</td>\n",
       "      <td>1</td>\n",
       "      <td>0.756972</td>\n",
       "      <td>0.887487</td>\n",
       "      <td>1</td>\n",
       "      <td>1</td>\n",
       "      <td>0</td>\n",
       "      <td>0</td>\n",
       "      <td>0</td>\n",
       "      <td>2.0</td>\n",
       "      <td>0.000000</td>\n",
       "      <td>1</td>\n",
       "    </tr>\n",
       "    <tr>\n",
       "      <th>6622</th>\n",
       "      <td>5096209</td>\n",
       "      <td>1</td>\n",
       "      <td>0</td>\n",
       "      <td>0</td>\n",
       "      <td>0</td>\n",
       "      <td>0.052083</td>\n",
       "      <td>3</td>\n",
       "      <td>2</td>\n",
       "      <td>0</td>\n",
       "      <td>1</td>\n",
       "      <td>0.560969</td>\n",
       "      <td>0.993693</td>\n",
       "      <td>1</td>\n",
       "      <td>1</td>\n",
       "      <td>0</td>\n",
       "      <td>0</td>\n",
       "      <td>7</td>\n",
       "      <td>2.0</td>\n",
       "      <td>0.800000</td>\n",
       "      <td>1</td>\n",
       "    </tr>\n",
       "    <tr>\n",
       "      <th>6901</th>\n",
       "      <td>5068779</td>\n",
       "      <td>0</td>\n",
       "      <td>0</td>\n",
       "      <td>0</td>\n",
       "      <td>0</td>\n",
       "      <td>0.166667</td>\n",
       "      <td>3</td>\n",
       "      <td>2</td>\n",
       "      <td>3</td>\n",
       "      <td>5</td>\n",
       "      <td>0.614199</td>\n",
       "      <td>0.743099</td>\n",
       "      <td>1</td>\n",
       "      <td>1</td>\n",
       "      <td>1</td>\n",
       "      <td>0</td>\n",
       "      <td>10</td>\n",
       "      <td>1.0</td>\n",
       "      <td>0.816667</td>\n",
       "      <td>1</td>\n",
       "    </tr>\n",
       "    <tr>\n",
       "      <th>6958</th>\n",
       "      <td>5095815</td>\n",
       "      <td>0</td>\n",
       "      <td>0</td>\n",
       "      <td>0</td>\n",
       "      <td>3</td>\n",
       "      <td>0.088542</td>\n",
       "      <td>3</td>\n",
       "      <td>1</td>\n",
       "      <td>1</td>\n",
       "      <td>2</td>\n",
       "      <td>0.480243</td>\n",
       "      <td>0.836894</td>\n",
       "      <td>1</td>\n",
       "      <td>1</td>\n",
       "      <td>0</td>\n",
       "      <td>0</td>\n",
       "      <td>12</td>\n",
       "      <td>5.0</td>\n",
       "      <td>0.150000</td>\n",
       "      <td>1</td>\n",
       "    </tr>\n",
       "    <tr>\n",
       "      <th>7070</th>\n",
       "      <td>5105788</td>\n",
       "      <td>1</td>\n",
       "      <td>1</td>\n",
       "      <td>0</td>\n",
       "      <td>0</td>\n",
       "      <td>0.489583</td>\n",
       "      <td>0</td>\n",
       "      <td>2</td>\n",
       "      <td>1</td>\n",
       "      <td>1</td>\n",
       "      <td>0.445431</td>\n",
       "      <td>0.996338</td>\n",
       "      <td>1</td>\n",
       "      <td>1</td>\n",
       "      <td>1</td>\n",
       "      <td>0</td>\n",
       "      <td>4</td>\n",
       "      <td>2.0</td>\n",
       "      <td>0.766667</td>\n",
       "      <td>1</td>\n",
       "    </tr>\n",
       "  </tbody>\n",
       "</table>\n",
       "<p>156 rows × 20 columns</p>\n",
       "</div>"
      ],
      "text/plain": [
       "           ID  Gender  Has a car  Has a property  Children count    Income  \\\n",
       "5970  5008945       0          0               0               0  0.140625   \n",
       "5197  5116088       0          0               1               1  0.375000   \n",
       "1175  5091503       0          0               0               0  0.114583   \n",
       "31    5026054       1          1               1               1  0.322917   \n",
       "1940  5065767       0          0               1               0  0.177083   \n",
       "...       ...     ...        ...             ...             ...       ...   \n",
       "6557  5069216       0          1               1               0  0.255208   \n",
       "6622  5096209       1          0               0               0  0.052083   \n",
       "6901  5068779       0          0               0               0  0.166667   \n",
       "6958  5095815       0          0               0               3  0.088542   \n",
       "7070  5105788       1          1               0               0  0.489583   \n",
       "\n",
       "      Employment status  Education level  Marital status  Dwelling       Age  \\\n",
       "5970                  0                0               1         1  0.598132   \n",
       "5197                  0                2               1         1  0.456404   \n",
       "1175                  3                2               1         1  0.264059   \n",
       "31                    3                0               1         1  0.798119   \n",
       "1940                  3                2               1         1  0.548495   \n",
       "...                 ...              ...             ...       ...       ...   \n",
       "6557                  0                0               1         1  0.756972   \n",
       "6622                  3                2               0         1  0.560969   \n",
       "6901                  3                2               3         5  0.614199   \n",
       "6958                  3                1               1         2  0.480243   \n",
       "7070                  0                2               1         1  0.445431   \n",
       "\n",
       "      Employment length  Has a mobile phone  Has a work phone  Has a phone  \\\n",
       "5970           0.675754                   1                 0            1   \n",
       "5197           0.966090                   1                 0            0   \n",
       "1175           0.864903                   1                 0            0   \n",
       "31             0.830383                   1                 0            0   \n",
       "1940           0.932587                   1                 0            0   \n",
       "...                 ...                 ...               ...          ...   \n",
       "6557           0.887487                   1                 1            0   \n",
       "6622           0.993693                   1                 1            0   \n",
       "6901           0.743099                   1                 1            1   \n",
       "6958           0.836894                   1                 1            0   \n",
       "7070           0.996338                   1                 1            1   \n",
       "\n",
       "      Has an email  Job title  Family member count  Account age  Is high risk  \n",
       "5970             0          5                  2.0     0.500000             0  \n",
       "5197             0          0                  3.0     0.283333             0  \n",
       "1175             0          3                  2.0     0.100000             0  \n",
       "31               0          3                  3.0     0.816667             0  \n",
       "1940             1         12                  2.0     0.850000             0  \n",
       "...            ...        ...                  ...          ...           ...  \n",
       "6557             0          0                  2.0     0.000000             1  \n",
       "6622             0          7                  2.0     0.800000             1  \n",
       "6901             0         10                  1.0     0.816667             1  \n",
       "6958             0         12                  5.0     0.150000             1  \n",
       "7070             0          4                  2.0     0.766667             1  \n",
       "\n",
       "[156 rows x 20 columns]"
      ]
     },
     "execution_count": 192,
     "metadata": {},
     "output_type": "execute_result"
    }
   ],
   "source": [
    "# Loop through each numeric column and normalize\n",
    "for col in numeric_cols:\n",
    "    Updated_test_data[col] = min_max_scaler.fit_transform(Updated_test_data[[col]])\n",
    "\n",
    "# Display the normalized DataFrame\n",
    "Updated_test_data"
   ]
  },
  {
   "cell_type": "markdown",
   "id": "33f9f543",
   "metadata": {},
   "source": [
    "## 2. Feature Engineering"
   ]
  },
  {
   "cell_type": "markdown",
   "id": "c7b533d4",
   "metadata": {},
   "source": [
    "### Removing Unnecessary Columns"
   ]
  },
  {
   "cell_type": "code",
   "execution_count": 193,
   "id": "d6c4c48e",
   "metadata": {},
   "outputs": [
    {
     "data": {
      "text/plain": [
       "Index(['ID', 'Gender', 'Has a car', 'Has a property', 'Children count',\n",
       "       'Income', 'Employment status', 'Education level', 'Marital status',\n",
       "       'Dwelling', 'Age', 'Employment length', 'Has a mobile phone',\n",
       "       'Has a work phone', 'Has a phone', 'Has an email', 'Job title',\n",
       "       'Family member count', 'Account age', 'Is high risk'],\n",
       "      dtype='object')"
      ]
     },
     "execution_count": 193,
     "metadata": {},
     "output_type": "execute_result"
    }
   ],
   "source": [
    "Updated_train_data.columns"
   ]
  },
  {
   "cell_type": "code",
   "execution_count": 194,
   "id": "c91b6308",
   "metadata": {},
   "outputs": [],
   "source": [
    "Updated_train_data = Updated_train_data.drop(columns = [\"ID\", 'Gender', 'Children count', 'Has a phone', \n",
    "                                                        'Has an email', 'Family member count', 'Marital status', \n",
    "                                                        'Has a work phone', 'Age', 'Dwelling', 'Education level'\n",
    "                                                        ,'Has a car'])\n",
    " \n",
    "Updated_test_data = Updated_test_data.drop(columns = [\"ID\", 'Gender', 'Children count', 'Has a phone', \n",
    "                                                        'Has an email', 'Family member count', 'Marital status', \n",
    "                                                        'Has a work phone', 'Age', 'Dwelling', 'Education level'\n",
    "                                                         ,'Has a car'])"
   ]
  },
  {
   "cell_type": "code",
   "execution_count": 195,
   "id": "47f16d93",
   "metadata": {},
   "outputs": [],
   "source": [
    "# Saving the dataframe as CSV file\n",
    "Updated_train_data.to_csv(\"Updated_Train_Data.csv\")\n",
    "\n",
    "# Saving the dataframe as CSV file\n",
    "Updated_test_data.to_csv(\"Updated_Test_Data.csv\")"
   ]
  },
  {
   "cell_type": "markdown",
   "id": "0ec68d85",
   "metadata": {},
   "source": [
    "### Splitting into Input and Output"
   ]
  },
  {
   "cell_type": "markdown",
   "id": "b35fd659",
   "metadata": {},
   "source": [
    "### Training Set"
   ]
  },
  {
   "cell_type": "code",
   "execution_count": 196,
   "id": "fb75e80b",
   "metadata": {},
   "outputs": [
    {
     "name": "stdout",
     "output_type": "stream",
     "text": [
      "Shape of Input is: (688, 7)\n",
      "\n",
      "Shape of Output is: (688,)\n"
     ]
    }
   ],
   "source": [
    "x_train, y_train = Updated_train_data.drop(columns = ['Is high risk'], axis = 1), Updated_train_data['Is high risk']\n",
    "\n",
    "x_train = x_train.values\n",
    "y_train = y_train.values\n",
    "\n",
    "print(\"Shape of Input is:\", x_train.shape)\n",
    "print(\"\\nShape of Output is:\", y_train.shape)"
   ]
  },
  {
   "cell_type": "markdown",
   "id": "8307bf5f",
   "metadata": {},
   "source": [
    "### Testing Set"
   ]
  },
  {
   "cell_type": "code",
   "execution_count": 197,
   "id": "6b51264b",
   "metadata": {},
   "outputs": [
    {
     "name": "stdout",
     "output_type": "stream",
     "text": [
      "Shape of Input is: (156, 7)\n",
      "\n",
      "Shape of Output is: (156,)\n"
     ]
    }
   ],
   "source": [
    "x_test, y_test = Updated_test_data.drop(columns = ['Is high risk'], axis = 1), Updated_test_data['Is high risk']\n",
    "\n",
    "x_test = x_test.values\n",
    "y_test = y_test.values\n",
    "\n",
    "print(\"Shape of Input is:\", x_test.shape)\n",
    "print(\"\\nShape of Output is:\", y_test.shape)"
   ]
  },
  {
   "cell_type": "markdown",
   "id": "924bc753",
   "metadata": {},
   "source": [
    "## 3. Machine Learning Model Development"
   ]
  },
  {
   "cell_type": "code",
   "execution_count": 198,
   "id": "9dbf151f",
   "metadata": {},
   "outputs": [],
   "source": [
    "# Importing Algorithms\n",
    "from sklearn.neighbors import KNeighborsClassifier\n",
    "from sklearn.svm import SVC\n",
    "from sklearn.tree import DecisionTreeClassifier\n",
    "from sklearn.naive_bayes import GaussianNB\n",
    "from sklearn.ensemble import RandomForestClassifier\n",
    "from sklearn.linear_model import LogisticRegression\n",
    "\n",
    "# Creating Object for Algorithms\n",
    "# Create instances of classifiers using a dictionary\n",
    "classifiers_dict = {\n",
    "    \"K Nearest Neighbor\": KNeighborsClassifier(),\n",
    "    \"Support Vector Machine\": SVC(),\n",
    "    \"Decision Tree Classifier\": DecisionTreeClassifier(),\n",
    "    \"Naive Bayes Classifier\": GaussianNB(),\n",
    "    \"Random Forest Classifier\": RandomForestClassifier(),\n",
    "    \"Logistic Regression\": LogisticRegression()\n",
    "}"
   ]
  },
  {
   "cell_type": "code",
   "execution_count": 199,
   "id": "5531aa76",
   "metadata": {},
   "outputs": [
    {
     "name": "stdout",
     "output_type": "stream",
     "text": [
      "Successfully Trained K Nearest Neighbor Classifier.\n",
      "Successfully Trained Support Vector Machine Classifier.\n",
      "Successfully Trained Decision Tree Classifier Classifier.\n",
      "Successfully Trained Naive Bayes Classifier Classifier.\n",
      "Successfully Trained Random Forest Classifier Classifier.\n",
      "Successfully Trained Logistic Regression Classifier.\n"
     ]
    }
   ],
   "source": [
    "# For Ignoring Warnings\n",
    "import warnings\n",
    "warnings.filterwarnings(\"ignore\")\n",
    "\n",
    "# We have dictionary so we will directly use it\n",
    "for classifier_name, classifier_instance in classifiers_dict.items():\n",
    "    classifier_instance.fit(x_train, y_train)\n",
    "    print(f\"Successfully Trained {classifier_name} Classifier.\")"
   ]
  },
  {
   "cell_type": "markdown",
   "id": "61bd073a",
   "metadata": {},
   "source": [
    "## 5. Model Evaluation"
   ]
  },
  {
   "cell_type": "code",
   "execution_count": 200,
   "id": "e8d7c9ee",
   "metadata": {},
   "outputs": [
    {
     "data": {
      "text/html": [
       "<h1 style='font-size:20 px;'>Evaluation Measures for Algorithm K Nearest Neighbor are:</h2><br>"
      ],
      "text/plain": [
       "<IPython.core.display.HTML object>"
      ]
     },
     "metadata": {},
     "output_type": "display_data"
    },
    {
     "data": {
      "text/html": [
       "<h2 style='font-size: 14 px'>Training Accuracy is: 73.25581395348837 </h1><br>"
      ],
      "text/plain": [
       "<IPython.core.display.HTML object>"
      ]
     },
     "metadata": {},
     "output_type": "display_data"
    },
    {
     "name": "stdout",
     "output_type": "stream",
     "text": [
      "\n",
      "Confusion Matrix is:\n",
      "\n",
      "[[245  99]\n",
      " [ 85 259]]\n",
      "\n",
      "Classification Report is:\n",
      "\n",
      "              precision    recall  f1-score   support\n",
      "\n",
      "           0       0.74      0.71      0.73       344\n",
      "           1       0.72      0.75      0.74       344\n",
      "\n",
      "    accuracy                           0.73       688\n",
      "   macro avg       0.73      0.73      0.73       688\n",
      "weighted avg       0.73      0.73      0.73       688\n",
      "\n"
     ]
    },
    {
     "data": {
      "text/html": [
       "<h2 style='font-size: 14 px'>Testing Accuracy is: 53.84615384615385 </h2><br>"
      ],
      "text/plain": [
       "<IPython.core.display.HTML object>"
      ]
     },
     "metadata": {},
     "output_type": "display_data"
    },
    {
     "name": "stdout",
     "output_type": "stream",
     "text": [
      "\n",
      "Confusion Matrix is:\n",
      "\n",
      "[[33 45]\n",
      " [27 51]]\n",
      "\n",
      "Classification Report is:\n",
      "\n",
      "              precision    recall  f1-score   support\n",
      "\n",
      "           0       0.55      0.42      0.48        78\n",
      "           1       0.53      0.65      0.59        78\n",
      "\n",
      "    accuracy                           0.54       156\n",
      "   macro avg       0.54      0.54      0.53       156\n",
      "weighted avg       0.54      0.54      0.53       156\n",
      "\n"
     ]
    },
    {
     "data": {
      "text/html": [
       "<h1 style='font-size:20 px;'>Evaluation Measures for Algorithm Support Vector Machine are:</h2><br>"
      ],
      "text/plain": [
       "<IPython.core.display.HTML object>"
      ]
     },
     "metadata": {},
     "output_type": "display_data"
    },
    {
     "data": {
      "text/html": [
       "<h2 style='font-size: 14 px'>Training Accuracy is: 55.52325581395349 </h1><br>"
      ],
      "text/plain": [
       "<IPython.core.display.HTML object>"
      ]
     },
     "metadata": {},
     "output_type": "display_data"
    },
    {
     "name": "stdout",
     "output_type": "stream",
     "text": [
      "\n",
      "Confusion Matrix is:\n",
      "\n",
      "[[160 184]\n",
      " [122 222]]\n",
      "\n",
      "Classification Report is:\n",
      "\n",
      "              precision    recall  f1-score   support\n",
      "\n",
      "           0       0.57      0.47      0.51       344\n",
      "           1       0.55      0.65      0.59       344\n",
      "\n",
      "    accuracy                           0.56       688\n",
      "   macro avg       0.56      0.56      0.55       688\n",
      "weighted avg       0.56      0.56      0.55       688\n",
      "\n"
     ]
    },
    {
     "data": {
      "text/html": [
       "<h2 style='font-size: 14 px'>Testing Accuracy is: 58.97435897435898 </h2><br>"
      ],
      "text/plain": [
       "<IPython.core.display.HTML object>"
      ]
     },
     "metadata": {},
     "output_type": "display_data"
    },
    {
     "name": "stdout",
     "output_type": "stream",
     "text": [
      "\n",
      "Confusion Matrix is:\n",
      "\n",
      "[[30 48]\n",
      " [16 62]]\n",
      "\n",
      "Classification Report is:\n",
      "\n",
      "              precision    recall  f1-score   support\n",
      "\n",
      "           0       0.65      0.38      0.48        78\n",
      "           1       0.56      0.79      0.66        78\n",
      "\n",
      "    accuracy                           0.59       156\n",
      "   macro avg       0.61      0.59      0.57       156\n",
      "weighted avg       0.61      0.59      0.57       156\n",
      "\n"
     ]
    },
    {
     "data": {
      "text/html": [
       "<h1 style='font-size:20 px;'>Evaluation Measures for Algorithm Decision Tree Classifier are:</h2><br>"
      ],
      "text/plain": [
       "<IPython.core.display.HTML object>"
      ]
     },
     "metadata": {},
     "output_type": "display_data"
    },
    {
     "data": {
      "text/html": [
       "<h2 style='font-size: 14 px'>Training Accuracy is: 100.0 </h1><br>"
      ],
      "text/plain": [
       "<IPython.core.display.HTML object>"
      ]
     },
     "metadata": {},
     "output_type": "display_data"
    },
    {
     "name": "stdout",
     "output_type": "stream",
     "text": [
      "\n",
      "Confusion Matrix is:\n",
      "\n",
      "[[344   0]\n",
      " [  0 344]]\n",
      "\n",
      "Classification Report is:\n",
      "\n",
      "              precision    recall  f1-score   support\n",
      "\n",
      "           0       1.00      1.00      1.00       344\n",
      "           1       1.00      1.00      1.00       344\n",
      "\n",
      "    accuracy                           1.00       688\n",
      "   macro avg       1.00      1.00      1.00       688\n",
      "weighted avg       1.00      1.00      1.00       688\n",
      "\n"
     ]
    },
    {
     "data": {
      "text/html": [
       "<h2 style='font-size: 14 px'>Testing Accuracy is: 55.12820512820513 </h2><br>"
      ],
      "text/plain": [
       "<IPython.core.display.HTML object>"
      ]
     },
     "metadata": {},
     "output_type": "display_data"
    },
    {
     "name": "stdout",
     "output_type": "stream",
     "text": [
      "\n",
      "Confusion Matrix is:\n",
      "\n",
      "[[46 32]\n",
      " [38 40]]\n",
      "\n",
      "Classification Report is:\n",
      "\n",
      "              precision    recall  f1-score   support\n",
      "\n",
      "           0       0.55      0.59      0.57        78\n",
      "           1       0.56      0.51      0.53        78\n",
      "\n",
      "    accuracy                           0.55       156\n",
      "   macro avg       0.55      0.55      0.55       156\n",
      "weighted avg       0.55      0.55      0.55       156\n",
      "\n"
     ]
    },
    {
     "data": {
      "text/html": [
       "<h1 style='font-size:20 px;'>Evaluation Measures for Algorithm Naive Bayes Classifier are:</h2><br>"
      ],
      "text/plain": [
       "<IPython.core.display.HTML object>"
      ]
     },
     "metadata": {},
     "output_type": "display_data"
    },
    {
     "data": {
      "text/html": [
       "<h2 style='font-size: 14 px'>Training Accuracy is: 62.2093023255814 </h1><br>"
      ],
      "text/plain": [
       "<IPython.core.display.HTML object>"
      ]
     },
     "metadata": {},
     "output_type": "display_data"
    },
    {
     "name": "stdout",
     "output_type": "stream",
     "text": [
      "\n",
      "Confusion Matrix is:\n",
      "\n",
      "[[180 164]\n",
      " [ 96 248]]\n",
      "\n",
      "Classification Report is:\n",
      "\n",
      "              precision    recall  f1-score   support\n",
      "\n",
      "           0       0.65      0.52      0.58       344\n",
      "           1       0.60      0.72      0.66       344\n",
      "\n",
      "    accuracy                           0.62       688\n",
      "   macro avg       0.63      0.62      0.62       688\n",
      "weighted avg       0.63      0.62      0.62       688\n",
      "\n"
     ]
    },
    {
     "data": {
      "text/html": [
       "<h2 style='font-size: 14 px'>Testing Accuracy is: 58.333333333333336 </h2><br>"
      ],
      "text/plain": [
       "<IPython.core.display.HTML object>"
      ]
     },
     "metadata": {},
     "output_type": "display_data"
    },
    {
     "name": "stdout",
     "output_type": "stream",
     "text": [
      "\n",
      "Confusion Matrix is:\n",
      "\n",
      "[[40 38]\n",
      " [27 51]]\n",
      "\n",
      "Classification Report is:\n",
      "\n",
      "              precision    recall  f1-score   support\n",
      "\n",
      "           0       0.60      0.51      0.55        78\n",
      "           1       0.57      0.65      0.61        78\n",
      "\n",
      "    accuracy                           0.58       156\n",
      "   macro avg       0.59      0.58      0.58       156\n",
      "weighted avg       0.59      0.58      0.58       156\n",
      "\n"
     ]
    },
    {
     "data": {
      "text/html": [
       "<h1 style='font-size:20 px;'>Evaluation Measures for Algorithm Random Forest Classifier are:</h2><br>"
      ],
      "text/plain": [
       "<IPython.core.display.HTML object>"
      ]
     },
     "metadata": {},
     "output_type": "display_data"
    },
    {
     "data": {
      "text/html": [
       "<h2 style='font-size: 14 px'>Training Accuracy is: 100.0 </h1><br>"
      ],
      "text/plain": [
       "<IPython.core.display.HTML object>"
      ]
     },
     "metadata": {},
     "output_type": "display_data"
    },
    {
     "name": "stdout",
     "output_type": "stream",
     "text": [
      "\n",
      "Confusion Matrix is:\n",
      "\n",
      "[[344   0]\n",
      " [  0 344]]\n",
      "\n",
      "Classification Report is:\n",
      "\n",
      "              precision    recall  f1-score   support\n",
      "\n",
      "           0       1.00      1.00      1.00       344\n",
      "           1       1.00      1.00      1.00       344\n",
      "\n",
      "    accuracy                           1.00       688\n",
      "   macro avg       1.00      1.00      1.00       688\n",
      "weighted avg       1.00      1.00      1.00       688\n",
      "\n"
     ]
    },
    {
     "data": {
      "text/html": [
       "<h2 style='font-size: 14 px'>Testing Accuracy is: 64.1025641025641 </h2><br>"
      ],
      "text/plain": [
       "<IPython.core.display.HTML object>"
      ]
     },
     "metadata": {},
     "output_type": "display_data"
    },
    {
     "name": "stdout",
     "output_type": "stream",
     "text": [
      "\n",
      "Confusion Matrix is:\n",
      "\n",
      "[[51 27]\n",
      " [29 49]]\n",
      "\n",
      "Classification Report is:\n",
      "\n",
      "              precision    recall  f1-score   support\n",
      "\n",
      "           0       0.64      0.65      0.65        78\n",
      "           1       0.64      0.63      0.64        78\n",
      "\n",
      "    accuracy                           0.64       156\n",
      "   macro avg       0.64      0.64      0.64       156\n",
      "weighted avg       0.64      0.64      0.64       156\n",
      "\n"
     ]
    },
    {
     "data": {
      "text/html": [
       "<h1 style='font-size:20 px;'>Evaluation Measures for Algorithm Logistic Regression are:</h2><br>"
      ],
      "text/plain": [
       "<IPython.core.display.HTML object>"
      ]
     },
     "metadata": {},
     "output_type": "display_data"
    },
    {
     "data": {
      "text/html": [
       "<h2 style='font-size: 14 px'>Training Accuracy is: 62.354651162790695 </h1><br>"
      ],
      "text/plain": [
       "<IPython.core.display.HTML object>"
      ]
     },
     "metadata": {},
     "output_type": "display_data"
    },
    {
     "name": "stdout",
     "output_type": "stream",
     "text": [
      "\n",
      "Confusion Matrix is:\n",
      "\n",
      "[[206 138]\n",
      " [121 223]]\n",
      "\n",
      "Classification Report is:\n",
      "\n",
      "              precision    recall  f1-score   support\n",
      "\n",
      "           0       0.63      0.60      0.61       344\n",
      "           1       0.62      0.65      0.63       344\n",
      "\n",
      "    accuracy                           0.62       688\n",
      "   macro avg       0.62      0.62      0.62       688\n",
      "weighted avg       0.62      0.62      0.62       688\n",
      "\n"
     ]
    },
    {
     "data": {
      "text/html": [
       "<h2 style='font-size: 14 px'>Testing Accuracy is: 60.89743589743589 </h2><br>"
      ],
      "text/plain": [
       "<IPython.core.display.HTML object>"
      ]
     },
     "metadata": {},
     "output_type": "display_data"
    },
    {
     "name": "stdout",
     "output_type": "stream",
     "text": [
      "\n",
      "Confusion Matrix is:\n",
      "\n",
      "[[45 33]\n",
      " [28 50]]\n",
      "\n",
      "Classification Report is:\n",
      "\n",
      "              precision    recall  f1-score   support\n",
      "\n",
      "           0       0.62      0.58      0.60        78\n",
      "           1       0.60      0.64      0.62        78\n",
      "\n",
      "    accuracy                           0.61       156\n",
      "   macro avg       0.61      0.61      0.61       156\n",
      "weighted avg       0.61      0.61      0.61       156\n",
      "\n"
     ]
    }
   ],
   "source": [
    "# For Showing Heading in Jupyter Notebook\n",
    "from IPython.display import display, HTML\n",
    "\n",
    "# Importing Required Functions\n",
    "from sklearn.metrics import accuracy_score, classification_report, confusion_matrix\n",
    "\n",
    "# Create a dictionary to store accuracies for each model\n",
    "accuracy_dict = {}\n",
    "\n",
    "for classifier_name, classifier_instance in classifiers_dict.items():\n",
    "\n",
    "    # Display model name\n",
    "    display(HTML(f\"<h1 style='font-size:20 px;'>Evaluation Measures for Algorithm {classifier_name} are:</h2><br>\"))\n",
    "\n",
    "    # Training phase\n",
    "    pred_train = classifier_instance.predict(x_train)\n",
    "\n",
    "    # Training Accuracy and Classification report and Confusion Matrix\n",
    "    display(HTML(f\"<h2 style='font-size: 14 px'>Training Accuracy is: {accuracy_score(y_train, pred_train)*100} </h1><br>\"))\n",
    "    print(\"\\nConfusion Matrix is:\\n\")\n",
    "    print(confusion_matrix(y_train, pred_train))\n",
    "    print(\"\\nClassification Report is:\\n\")\n",
    "    print(classification_report(y_train, pred_train))\n",
    "\n",
    "    # Testing phase\n",
    "    pred_test = classifier_instance.predict(x_test)\n",
    "\n",
    "    # Testing Accuracy and Classification report and Confusion Matrix\n",
    "    testing_accuracy = accuracy_score(y_test, pred_test) * 100\n",
    "    display(HTML(f\"<h2 style='font-size: 14 px'>Testing Accuracy is: {testing_accuracy} </h2><br>\"))\n",
    "    print(\"\\nConfusion Matrix is:\\n\")\n",
    "    print(confusion_matrix(y_test, pred_test))\n",
    "    print(\"\\nClassification Report is:\\n\")\n",
    "    print(classification_report(y_test, pred_test))\n",
    "\n",
    "    # Store the testing accuracy in the dictionary\n",
    "    accuracy_dict[classifier_name] = testing_accuracy"
   ]
  },
  {
   "cell_type": "markdown",
   "id": "ace4969b",
   "metadata": {},
   "source": [
    "## Finding the Model with Highest accuracy."
   ]
  },
  {
   "cell_type": "code",
   "execution_count": 201,
   "id": "09f6de80",
   "metadata": {},
   "outputs": [
    {
     "data": {
      "text/html": [
       "<h3 style='font-size: 14 px'>The model with the Maximum Testing accuracy is: Random Forest Classifier with accuracy 64.1025641025641</h3>"
      ],
      "text/plain": [
       "<IPython.core.display.HTML object>"
      ]
     },
     "metadata": {},
     "output_type": "display_data"
    }
   ],
   "source": [
    "# Finding the model with the maximum testing accuracy\n",
    "best_model = max(accuracy_dict, key=accuracy_dict.get)\n",
    "display(HTML(f\"<h3 style='font-size: 14 px'>The model with the Maximum Testing accuracy is: {best_model} with accuracy {accuracy_dict[best_model]}</h3>\"))"
   ]
  },
  {
   "cell_type": "markdown",
   "id": "cec9d4ec",
   "metadata": {},
   "source": [
    "### Implementing Hyperparameter Tuning"
   ]
  },
  {
   "cell_type": "markdown",
   "id": "923f5167",
   "metadata": {},
   "source": [
    "### Creating Parameter Grid For each Model\n",
    "### Since SVC will take much resources we are removing it"
   ]
  },
  {
   "cell_type": "code",
   "execution_count": 202,
   "id": "2789342e",
   "metadata": {},
   "outputs": [],
   "source": [
    "from sklearn.model_selection import GridSearchCV\n",
    "from sklearn.metrics import make_scorer\n",
    "\n",
    "# Create instances of classifiers using a dictionary\n",
    "classifiers_dict = {\n",
    "    \"K Nearest Neighbor\": KNeighborsClassifier(),\n",
    "    \"Decision Tree Classifier\": DecisionTreeClassifier(),\n",
    "    \"Naive Bayes Classifier\": GaussianNB(),\n",
    "    \"Random Forest Classifier\": RandomForestClassifier(),\n",
    "    \"Logistic Regression\": LogisticRegression()\n",
    "}\n",
    "\n",
    "param_grid = {\n",
    "    'K Nearest Neighbor': {'n_neighbors': [3, 5, 7], 'weights': ['uniform', 'distance'], 'algorithm': ['ball_tree', 'kd_tree', 'brute']},\n",
    "\n",
    "    'Decision Tree Classifier': {\n",
    "        'max_depth': [None, 10, 20],\n",
    "        'min_samples_split': [2, 5, 10],\n",
    "        'min_samples_leaf': [1, 2, 4],\n",
    "        'criterion': ['gini', 'entropy'],\n",
    "    },\n",
    "\n",
    "    'Naive Bayes Classifier': {},  # Naive Bayes doesn't have hyperparameters\n",
    "\n",
    "    'Random Forest Classifier': {\n",
    "        'n_estimators': [50, 100, 200],\n",
    "        'max_depth': [None, 10, 20],\n",
    "        'min_samples_split': [2, 5, 10],\n",
    "        'min_samples_leaf': [1, 2, 4],\n",
    "        'criterion': ['gini', 'entropy'],\n",
    "    },\n",
    "\n",
    "    'Logistic Regression': {\n",
    "        'C': [0.1, 1, 10],\n",
    "        'penalty': ['l1', 'l2'],\n",
    "        'solver': ['liblinear', 'saga'],\n",
    "        'max_iter': [100, 200, 300],\n",
    "    }\n",
    "}\n",
    "\n",
    "# Create a dictionary to store grid search results and best models\n",
    "grid_search_results = {}"
   ]
  },
  {
   "cell_type": "markdown",
   "id": "14c14546",
   "metadata": {},
   "source": [
    "### Looping through each classifier and giving the parameters and evaluating."
   ]
  },
  {
   "cell_type": "code",
   "execution_count": 203,
   "id": "bbf6e976",
   "metadata": {},
   "outputs": [
    {
     "data": {
      "text/html": [
       "<h1 style='font-size:20 px;'>Grid Search and Evaluation Measures for Algorithm K Nearest Neighbor are:</h2><br>"
      ],
      "text/plain": [
       "<IPython.core.display.HTML object>"
      ]
     },
     "metadata": {},
     "output_type": "display_data"
    },
    {
     "data": {
      "text/html": [
       "<h2 style='font-size: 14 px'>Best Parameters are: algorithm: ball_tree, n_neighbors: 3, weights: distance </h2><br>"
      ],
      "text/plain": [
       "<IPython.core.display.HTML object>"
      ]
     },
     "metadata": {},
     "output_type": "display_data"
    },
    {
     "data": {
      "text/html": [
       "<h2 style='font-size: 14 px'>Best Model Training Accuracy is: 100.0 </h1><br>"
      ],
      "text/plain": [
       "<IPython.core.display.HTML object>"
      ]
     },
     "metadata": {},
     "output_type": "display_data"
    },
    {
     "name": "stdout",
     "output_type": "stream",
     "text": [
      "\n",
      "Confusion Matrix for Best Model on Training Data is:\n",
      "\n",
      "[[344   0]\n",
      " [  0 344]]\n",
      "\n",
      "Classification Report for Best Model on Training Data is:\n",
      "\n",
      "              precision    recall  f1-score   support\n",
      "\n",
      "           0       1.00      1.00      1.00       344\n",
      "           1       1.00      1.00      1.00       344\n",
      "\n",
      "    accuracy                           1.00       688\n",
      "   macro avg       1.00      1.00      1.00       688\n",
      "weighted avg       1.00      1.00      1.00       688\n",
      "\n"
     ]
    },
    {
     "data": {
      "text/html": [
       "<h2 style='font-size: 14 px'>Best Model Testing Accuracy is: 54.48717948717948 </h2><br>"
      ],
      "text/plain": [
       "<IPython.core.display.HTML object>"
      ]
     },
     "metadata": {},
     "output_type": "display_data"
    },
    {
     "name": "stdout",
     "output_type": "stream",
     "text": [
      "\n",
      "Confusion Matrix for Best Model on Testing Data is:\n",
      "\n",
      "[[34 44]\n",
      " [27 51]]\n",
      "\n",
      "Classification Report for Best Model on Testing Data is:\n",
      "\n",
      "              precision    recall  f1-score   support\n",
      "\n",
      "           0       0.56      0.44      0.49        78\n",
      "           1       0.54      0.65      0.59        78\n",
      "\n",
      "    accuracy                           0.54       156\n",
      "   macro avg       0.55      0.54      0.54       156\n",
      "weighted avg       0.55      0.54      0.54       156\n",
      "\n"
     ]
    },
    {
     "data": {
      "text/html": [
       "<h1 style='font-size:20 px;'>Grid Search and Evaluation Measures for Algorithm Decision Tree Classifier are:</h2><br>"
      ],
      "text/plain": [
       "<IPython.core.display.HTML object>"
      ]
     },
     "metadata": {},
     "output_type": "display_data"
    },
    {
     "data": {
      "text/html": [
       "<h2 style='font-size: 14 px'>Best Parameters are: criterion: entropy, max_depth: None, min_samples_leaf: 4, min_samples_split: 10 </h2><br>"
      ],
      "text/plain": [
       "<IPython.core.display.HTML object>"
      ]
     },
     "metadata": {},
     "output_type": "display_data"
    },
    {
     "data": {
      "text/html": [
       "<h2 style='font-size: 14 px'>Best Model Training Accuracy is: 86.33720930232558 </h1><br>"
      ],
      "text/plain": [
       "<IPython.core.display.HTML object>"
      ]
     },
     "metadata": {},
     "output_type": "display_data"
    },
    {
     "name": "stdout",
     "output_type": "stream",
     "text": [
      "\n",
      "Confusion Matrix for Best Model on Training Data is:\n",
      "\n",
      "[[300  44]\n",
      " [ 50 294]]\n",
      "\n",
      "Classification Report for Best Model on Training Data is:\n",
      "\n",
      "              precision    recall  f1-score   support\n",
      "\n",
      "           0       0.86      0.87      0.86       344\n",
      "           1       0.87      0.85      0.86       344\n",
      "\n",
      "    accuracy                           0.86       688\n",
      "   macro avg       0.86      0.86      0.86       688\n",
      "weighted avg       0.86      0.86      0.86       688\n",
      "\n"
     ]
    },
    {
     "data": {
      "text/html": [
       "<h2 style='font-size: 14 px'>Best Model Testing Accuracy is: 58.333333333333336 </h2><br>"
      ],
      "text/plain": [
       "<IPython.core.display.HTML object>"
      ]
     },
     "metadata": {},
     "output_type": "display_data"
    },
    {
     "name": "stdout",
     "output_type": "stream",
     "text": [
      "\n",
      "Confusion Matrix for Best Model on Testing Data is:\n",
      "\n",
      "[[53 25]\n",
      " [40 38]]\n",
      "\n",
      "Classification Report for Best Model on Testing Data is:\n",
      "\n",
      "              precision    recall  f1-score   support\n",
      "\n",
      "           0       0.57      0.68      0.62        78\n",
      "           1       0.60      0.49      0.54        78\n",
      "\n",
      "    accuracy                           0.58       156\n",
      "   macro avg       0.59      0.58      0.58       156\n",
      "weighted avg       0.59      0.58      0.58       156\n",
      "\n"
     ]
    },
    {
     "data": {
      "text/html": [
       "<h1 style='font-size:20 px;'>Grid Search and Evaluation Measures for Algorithm Naive Bayes Classifier are:</h2><br>"
      ],
      "text/plain": [
       "<IPython.core.display.HTML object>"
      ]
     },
     "metadata": {},
     "output_type": "display_data"
    },
    {
     "data": {
      "text/html": [
       "<h2 style='font-size: 14 px'>Best Parameters are:  </h2><br>"
      ],
      "text/plain": [
       "<IPython.core.display.HTML object>"
      ]
     },
     "metadata": {},
     "output_type": "display_data"
    },
    {
     "data": {
      "text/html": [
       "<h2 style='font-size: 14 px'>Best Model Training Accuracy is: 62.2093023255814 </h1><br>"
      ],
      "text/plain": [
       "<IPython.core.display.HTML object>"
      ]
     },
     "metadata": {},
     "output_type": "display_data"
    },
    {
     "name": "stdout",
     "output_type": "stream",
     "text": [
      "\n",
      "Confusion Matrix for Best Model on Training Data is:\n",
      "\n",
      "[[180 164]\n",
      " [ 96 248]]\n",
      "\n",
      "Classification Report for Best Model on Training Data is:\n",
      "\n",
      "              precision    recall  f1-score   support\n",
      "\n",
      "           0       0.65      0.52      0.58       344\n",
      "           1       0.60      0.72      0.66       344\n",
      "\n",
      "    accuracy                           0.62       688\n",
      "   macro avg       0.63      0.62      0.62       688\n",
      "weighted avg       0.63      0.62      0.62       688\n",
      "\n"
     ]
    },
    {
     "data": {
      "text/html": [
       "<h2 style='font-size: 14 px'>Best Model Testing Accuracy is: 58.333333333333336 </h2><br>"
      ],
      "text/plain": [
       "<IPython.core.display.HTML object>"
      ]
     },
     "metadata": {},
     "output_type": "display_data"
    },
    {
     "name": "stdout",
     "output_type": "stream",
     "text": [
      "\n",
      "Confusion Matrix for Best Model on Testing Data is:\n",
      "\n",
      "[[40 38]\n",
      " [27 51]]\n",
      "\n",
      "Classification Report for Best Model on Testing Data is:\n",
      "\n",
      "              precision    recall  f1-score   support\n",
      "\n",
      "           0       0.60      0.51      0.55        78\n",
      "           1       0.57      0.65      0.61        78\n",
      "\n",
      "    accuracy                           0.58       156\n",
      "   macro avg       0.59      0.58      0.58       156\n",
      "weighted avg       0.59      0.58      0.58       156\n",
      "\n"
     ]
    },
    {
     "data": {
      "text/html": [
       "<h1 style='font-size:20 px;'>Grid Search and Evaluation Measures for Algorithm Random Forest Classifier are:</h2><br>"
      ],
      "text/plain": [
       "<IPython.core.display.HTML object>"
      ]
     },
     "metadata": {},
     "output_type": "display_data"
    },
    {
     "data": {
      "text/html": [
       "<h2 style='font-size: 14 px'>Best Parameters are: criterion: gini, max_depth: 20, min_samples_leaf: 2, min_samples_split: 2, n_estimators: 200 </h2><br>"
      ],
      "text/plain": [
       "<IPython.core.display.HTML object>"
      ]
     },
     "metadata": {},
     "output_type": "display_data"
    },
    {
     "data": {
      "text/html": [
       "<h2 style='font-size: 14 px'>Best Model Training Accuracy is: 97.38372093023256 </h1><br>"
      ],
      "text/plain": [
       "<IPython.core.display.HTML object>"
      ]
     },
     "metadata": {},
     "output_type": "display_data"
    },
    {
     "name": "stdout",
     "output_type": "stream",
     "text": [
      "\n",
      "Confusion Matrix for Best Model on Training Data is:\n",
      "\n",
      "[[338   6]\n",
      " [ 12 332]]\n",
      "\n",
      "Classification Report for Best Model on Training Data is:\n",
      "\n",
      "              precision    recall  f1-score   support\n",
      "\n",
      "           0       0.97      0.98      0.97       344\n",
      "           1       0.98      0.97      0.97       344\n",
      "\n",
      "    accuracy                           0.97       688\n",
      "   macro avg       0.97      0.97      0.97       688\n",
      "weighted avg       0.97      0.97      0.97       688\n",
      "\n"
     ]
    },
    {
     "data": {
      "text/html": [
       "<h2 style='font-size: 14 px'>Best Model Testing Accuracy is: 62.17948717948718 </h2><br>"
      ],
      "text/plain": [
       "<IPython.core.display.HTML object>"
      ]
     },
     "metadata": {},
     "output_type": "display_data"
    },
    {
     "name": "stdout",
     "output_type": "stream",
     "text": [
      "\n",
      "Confusion Matrix for Best Model on Testing Data is:\n",
      "\n",
      "[[48 30]\n",
      " [29 49]]\n",
      "\n",
      "Classification Report for Best Model on Testing Data is:\n",
      "\n",
      "              precision    recall  f1-score   support\n",
      "\n",
      "           0       0.62      0.62      0.62        78\n",
      "           1       0.62      0.63      0.62        78\n",
      "\n",
      "    accuracy                           0.62       156\n",
      "   macro avg       0.62      0.62      0.62       156\n",
      "weighted avg       0.62      0.62      0.62       156\n",
      "\n"
     ]
    },
    {
     "data": {
      "text/html": [
       "<h1 style='font-size:20 px;'>Grid Search and Evaluation Measures for Algorithm Logistic Regression are:</h2><br>"
      ],
      "text/plain": [
       "<IPython.core.display.HTML object>"
      ]
     },
     "metadata": {},
     "output_type": "display_data"
    },
    {
     "data": {
      "text/html": [
       "<h2 style='font-size: 14 px'>Best Parameters are: C: 10, max_iter: 300, penalty: l1, solver: saga </h2><br>"
      ],
      "text/plain": [
       "<IPython.core.display.HTML object>"
      ]
     },
     "metadata": {},
     "output_type": "display_data"
    },
    {
     "data": {
      "text/html": [
       "<h2 style='font-size: 14 px'>Best Model Training Accuracy is: 62.645348837209305 </h1><br>"
      ],
      "text/plain": [
       "<IPython.core.display.HTML object>"
      ]
     },
     "metadata": {},
     "output_type": "display_data"
    },
    {
     "name": "stdout",
     "output_type": "stream",
     "text": [
      "\n",
      "Confusion Matrix for Best Model on Training Data is:\n",
      "\n",
      "[[204 140]\n",
      " [117 227]]\n",
      "\n",
      "Classification Report for Best Model on Training Data is:\n",
      "\n",
      "              precision    recall  f1-score   support\n",
      "\n",
      "           0       0.64      0.59      0.61       344\n",
      "           1       0.62      0.66      0.64       344\n",
      "\n",
      "    accuracy                           0.63       688\n",
      "   macro avg       0.63      0.63      0.63       688\n",
      "weighted avg       0.63      0.63      0.63       688\n",
      "\n"
     ]
    },
    {
     "data": {
      "text/html": [
       "<h2 style='font-size: 14 px'>Best Model Testing Accuracy is: 60.256410256410255 </h2><br>"
      ],
      "text/plain": [
       "<IPython.core.display.HTML object>"
      ]
     },
     "metadata": {},
     "output_type": "display_data"
    },
    {
     "name": "stdout",
     "output_type": "stream",
     "text": [
      "\n",
      "Confusion Matrix for Best Model on Testing Data is:\n",
      "\n",
      "[[43 35]\n",
      " [27 51]]\n",
      "\n",
      "Classification Report for Best Model on Testing Data is:\n",
      "\n",
      "              precision    recall  f1-score   support\n",
      "\n",
      "           0       0.61      0.55      0.58        78\n",
      "           1       0.59      0.65      0.62        78\n",
      "\n",
      "    accuracy                           0.60       156\n",
      "   macro avg       0.60      0.60      0.60       156\n",
      "weighted avg       0.60      0.60      0.60       156\n",
      "\n"
     ]
    }
   ],
   "source": [
    "# Importing Required Functions\n",
    "from sklearn.metrics import accuracy_score, classification_report, confusion_matrix\n",
    "\n",
    "# Create a dictionary to store grid search results and best models\n",
    "grid_search_results = {}\n",
    "\n",
    "# Loop through each classifier\n",
    "for classifier_name, classifier_instance in classifiers_dict.items():\n",
    "\n",
    "    # Display model name\n",
    "    display(HTML(f\"<h1 style='font-size:20 px;'>Grid Search and Evaluation Measures for Algorithm {classifier_name} are:</h2><br>\"))\n",
    "\n",
    "    # Set up GridSearchCV\n",
    "    grid_search = GridSearchCV(classifier_instance, param_grid[classifier_name], scoring=make_scorer(accuracy_score), cv=5, n_jobs=-1)\n",
    "\n",
    "    # Fit the model using GridSearchCV\n",
    "    grid_search.fit(x_train, y_train)\n",
    "\n",
    "    # Get the best model from GridSearchCV\n",
    "    best_model = grid_search.best_estimator_\n",
    "\n",
    "    # Store grid search results\n",
    "    grid_search_results[classifier_name] = {\n",
    "        'best_model': best_model,\n",
    "        'grid_search': grid_search\n",
    "    }\n",
    "\n",
    "    # Display best parameters\n",
    "    # Display best parameters without brackets\n",
    "    best_params_str = ', '.join(f'{key}: {value}' for key, value in grid_search.best_params_.items())\n",
    "    display(HTML(f\"<h2 style='font-size: 14 px'>Best Parameters are: {best_params_str} </h2><br>\"))\n",
    "\n",
    "\n",
    "    # Display evaluation metrics for the best model\n",
    "    pred_train = best_model.predict(x_train)\n",
    "    display(HTML(f\"<h2 style='font-size: 14 px'>Best Model Training Accuracy is: {accuracy_score(y_train, pred_train)*100} </h1><br>\"))\n",
    "    print(\"\\nConfusion Matrix for Best Model on Training Data is:\\n\")\n",
    "    print(confusion_matrix(y_train, pred_train))\n",
    "    print(\"\\nClassification Report for Best Model on Training Data is:\\n\")\n",
    "    print(classification_report(y_train, pred_train))\n",
    "\n",
    "    pred_test = best_model.predict(x_test)\n",
    "\n",
    "    # Testing Accuracy and Classification report and Confusion Matrix\n",
    "    testing_accuracy = accuracy_score(y_test, pred_test) * 100\n",
    "    display(HTML(f\"<h2 style='font-size: 14 px'>Best Model Testing Accuracy is: {testing_accuracy} </h2><br>\"))\n",
    "    print(\"\\nConfusion Matrix for Best Model on Testing Data is:\\n\")\n",
    "    print(confusion_matrix(y_test, pred_test))\n",
    "    print(\"\\nClassification Report for Best Model on Testing Data is:\\n\")\n",
    "    print(classification_report(y_test, pred_test))\n"
   ]
  },
  {
   "cell_type": "markdown",
   "id": "f838f6c9",
   "metadata": {},
   "source": [
    "## Finding the Model with Highest accuracy after Hyperparameter Tuning"
   ]
  },
  {
   "cell_type": "code",
   "execution_count": 204,
   "id": "2187eef0",
   "metadata": {},
   "outputs": [
    {
     "data": {
      "text/html": [
       "<h3 style='font-size: 14 px'>The model with the Maximum Testing accuracy after Hyperparameter Tuning is: Random Forest Classifier with accuracy 62.17948717948718</h3>"
      ],
      "text/plain": [
       "<IPython.core.display.HTML object>"
      ]
     },
     "metadata": {},
     "output_type": "display_data"
    }
   ],
   "source": [
    "best_model_name = max(grid_search_results, key=lambda k: accuracy_score(y_test, grid_search_results[k]['best_model'].predict(x_test)))\n",
    "best_model = grid_search_results[best_model_name]['best_model']\n",
    "display(HTML(f\"<h3 style='font-size: 14 px'>The model with the Maximum Testing accuracy after Hyperparameter Tuning is: {best_model_name} with accuracy {accuracy_score(y_test, best_model.predict(x_test))*100}</h3>\"))"
   ]
  },
  {
   "cell_type": "code",
   "execution_count": null,
   "id": "dad500f8",
   "metadata": {},
   "outputs": [],
   "source": []
  }
 ],
 "metadata": {
  "kernelspec": {
   "display_name": "Python 3 (ipykernel)",
   "language": "python",
   "name": "python3"
  },
  "language_info": {
   "codemirror_mode": {
    "name": "ipython",
    "version": 3
   },
   "file_extension": ".py",
   "mimetype": "text/x-python",
   "name": "python",
   "nbconvert_exporter": "python",
   "pygments_lexer": "ipython3",
   "version": "3.11.4"
  }
 },
 "nbformat": 4,
 "nbformat_minor": 5
}
